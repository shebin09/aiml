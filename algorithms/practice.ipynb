{
 "cells": [
  {
   "cell_type": "code",
   "execution_count": 4,
   "id": "80ec8681",
   "metadata": {},
   "outputs": [],
   "source": [
    "import pandas as pd\n",
    "import numpy as np\n",
    "from sklearn.linear_model import LogisticRegression\n",
    "from sklearn.neighbors import KNeighborsClassifier\n",
    "from sklearn.svm import SVC\n",
    "from sklearn.tree import DecisionTreeClassifier\n",
    "from sklearn.ensemble import RandomForestClassifier\n",
    "from sklearn.model_selection import train_test_split\n"
   ]
  },
  {
   "cell_type": "code",
   "execution_count": 3,
   "id": "807f85d0",
   "metadata": {},
   "outputs": [],
   "source": [
    "data=pd.read_csv('churn_data.csv')"
   ]
  },
  {
   "cell_type": "code",
   "execution_count": 5,
   "id": "391339de",
   "metadata": {},
   "outputs": [],
   "source": [
    "data=data.select_dtypes(include='number')"
   ]
  },
  {
   "cell_type": "code",
   "execution_count": 22,
   "id": "1d579072",
   "metadata": {},
   "outputs": [
    {
     "data": {
      "text/plain": [
       "satisfaction             9\n",
       "evaluation              63\n",
       "number_of_projects      44\n",
       "average_montly_hours    26\n",
       "time_spend_company       0\n",
       "work_accident            0\n",
       "churn                    0\n",
       "promotion                0\n",
       "department              41\n",
       "salary                   0\n",
       "dtype: int64"
      ]
     },
     "execution_count": 22,
     "metadata": {},
     "output_type": "execute_result"
    }
   ],
   "source": [
    "data=pd.read_csv('churn_data.csv')\n",
    "data.dropna()\n",
    "data.isna().sum()"
   ]
  },
  {
   "cell_type": "code",
   "execution_count": 37,
   "id": "1040493e",
   "metadata": {},
   "outputs": [],
   "source": [
    "from sklearn.pipeline import Pipeline\n",
    "from sklearn.impute import SimpleImputer\n",
    "\n",
    "lr= Pipeline(steps=[\n",
    "    ('imp',SimpleImputer(strategy='median')),\n",
    "    ('mod',LogisticRegression())\n",
    "])\n"
   ]
  },
  {
   "cell_type": "code",
   "execution_count": 35,
   "id": "daededbc",
   "metadata": {},
   "outputs": [
    {
     "data": {
      "text/plain": [
       "satisfaction             7\n",
       "evaluation              53\n",
       "average_montly_hours    22\n",
       "dtype: int64"
      ]
     },
     "execution_count": 35,
     "metadata": {},
     "output_type": "execute_result"
    }
   ],
   "source": [
    "y=data['churn']\n",
    "X=data.select_dtypes(include='number')\n",
    "y\n",
    "X_train,X_test,y_train,y_test=train_test_split(X,y,test_size=0.2)\n",
    "X\n",
    "X_train.isna().sum()"
   ]
  },
  {
   "cell_type": "code",
   "execution_count": 49,
   "id": "bdc6f65f",
   "metadata": {},
   "outputs": [],
   "source": [
    "lr.fit(X_train,y_train)\n",
    "y_pred_lr=lr.predict(X_test)\n",
    "from sklearn.metrics import accuracy_score,precision_score,recall_score\n",
    "lr_acc=accuracy_score(y_pred_lr,y_test)\n",
    "lr_pre=precision_score(y_pred_lr,y_test,pos_label='yes')\n",
    "lr_rec=recall_score(y_pred_lr,y_test,pos_label='yes')"
   ]
  },
  {
   "cell_type": "code",
   "execution_count": 50,
   "id": "d802b3e2",
   "metadata": {},
   "outputs": [],
   "source": [
    "knn= Pipeline(steps=[\n",
    "    ('imp',SimpleImputer(strategy='median')),\n",
    "    ('mod',KNeighborsClassifier())\n",
    "])\n"
   ]
  },
  {
   "cell_type": "code",
   "execution_count": 53,
   "id": "5674ca42",
   "metadata": {},
   "outputs": [],
   "source": [
    "knn.fit(X_train,y_train)\n",
    "y_pred_knn=knn.predict(X_test)\n",
    "knn_acc=accuracy_score(y_pred_knn,y_test)\n",
    "knn_pre=precision_score(y_pred_knn,y_test,pos_label='yes')\n",
    "knn_rec=recall_score(y_pred_knn,y_test,pos_label='yes')"
   ]
  }
 ],
 "metadata": {
  "kernelspec": {
   "display_name": ".venv (3.13.3)",
   "language": "python",
   "name": "python3"
  },
  "language_info": {
   "codemirror_mode": {
    "name": "ipython",
    "version": 3
   },
   "file_extension": ".py",
   "mimetype": "text/x-python",
   "name": "python",
   "nbconvert_exporter": "python",
   "pygments_lexer": "ipython3",
   "version": "3.13.3"
  }
 },
 "nbformat": 4,
 "nbformat_minor": 5
}
