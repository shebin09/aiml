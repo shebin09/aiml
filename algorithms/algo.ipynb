{
 "cells": [
  {
   "cell_type": "markdown",
   "id": "2c777bb2",
   "metadata": {},
   "source": [
    "# Algorithms"
   ]
  },
  {
   "cell_type": "markdown",
   "id": "1cd3ec60",
   "metadata": {},
   "source": [
    "### Types of algorithms\n",
    "\n",
    "* supervised learning\n",
    "* unsupervised learning\n",
    "* reinforcement learning"
   ]
  },
  {
   "cell_type": "markdown",
   "id": "c1d94c5b",
   "metadata": {},
   "source": [
    "### Introducion to classification,regression"
   ]
  },
  {
   "cell_type": "markdown",
   "id": "51c4de0b",
   "metadata": {},
   "source": [
    "#### linear regression"
   ]
  },
  {
   "cell_type": "code",
   "execution_count": 8,
   "id": "410fda4c",
   "metadata": {},
   "outputs": [],
   "source": [
    "from sklearn.linear_model import LinearRegression\n",
    "import pandas as pd\n",
    "from sklearn.metrics import mean_squared_error,r2_score\n",
    "from sklearn.model_selection import train_test_split\n",
    "\n",
    "data=pd.read_csv('beer-servings.csv')\n",
    "\n",
    "mod=LinearRegression()\n",
    "\n",
    "#X_train,y_train,X_test,y_test=train_test_split(X,)\n",
    "X=data.drop(columns=['total_litres_of_pure_alcohol'])\n",
    "y=data['total_litres_of_pure_alcohol']"
   ]
  },
  {
   "cell_type": "code",
   "execution_count": null,
   "id": "8fe8cfa3",
   "metadata": {},
   "outputs": [],
   "source": []
  }
 ],
 "metadata": {
  "kernelspec": {
   "display_name": ".venv (3.13.3)",
   "language": "python",
   "name": "python3"
  },
  "language_info": {
   "codemirror_mode": {
    "name": "ipython",
    "version": 3
   },
   "file_extension": ".py",
   "mimetype": "text/x-python",
   "name": "python",
   "nbconvert_exporter": "python",
   "pygments_lexer": "ipython3",
   "version": "3.13.3"
  }
 },
 "nbformat": 4,
 "nbformat_minor": 5
}
