{
 "cells": [
  {
   "cell_type": "code",
   "execution_count": 3,
   "id": "45868275",
   "metadata": {},
   "outputs": [],
   "source": [
    "from sklearn.datasets import load_iris\n",
    "from sklearn.ensemble import BaggingClassifier\n",
    "from sklearn.tree import DecisionTreeClassifier\n",
    "from sklearn.model_selection import train_test_split\n",
    "from sklearn.metrics import accuracy_score\n",
    "from sklearn.ensemble import AdaBoostClassifier,GradientBoostingClassifier\n",
    "import xgboost"
   ]
  },
  {
   "cell_type": "code",
   "execution_count": 4,
   "id": "8f571b8b",
   "metadata": {},
   "outputs": [],
   "source": [
    "X,y=load_iris(return_X_y=True)\n",
    "X_train,X_test,y_train,y_test=train_test_split(X,y,test_size=0.2)"
   ]
  },
  {
   "cell_type": "code",
   "execution_count": 5,
   "id": "e27d9861",
   "metadata": {},
   "outputs": [],
   "source": [
    "bagging_model=BaggingClassifier(estimator=DecisionTreeClassifier(max_depth=2,max_features=1),\n",
    "                                n_estimators=10,\n",
    "                                random_state=42)"
   ]
  },
  {
   "cell_type": "code",
   "execution_count": 11,
   "id": "e2f9799c",
   "metadata": {},
   "outputs": [],
   "source": [
    "bagging_model.fit(X_train,y_train)\n",
    "y_pred_bagging=bagging_model.predict(X_test)"
   ]
  },
  {
   "cell_type": "code",
   "execution_count": null,
   "id": "bcc27a9a",
   "metadata": {},
   "outputs": [],
   "source": [
    "xg=xgboost.XGBClassifier()\n",
    "xg.fit(X_train,y_train)\n",
    "y_pred_xgb=xg.predict(X_test)"
   ]
  },
  {
   "cell_type": "code",
   "execution_count": 24,
   "id": "9dd1df0e",
   "metadata": {},
   "outputs": [],
   "source": [
    "ada_model=AdaBoostClassifier(n_estimators=10,estimator=DecisionTreeClassifier(max_depth=2,max_features=1))\n",
    "ada_model.fit(X_train,y_train)\n",
    "y_pred_ada=ada_model.predict(X_test)"
   ]
  },
  {
   "cell_type": "code",
   "execution_count": 19,
   "id": "e573290c",
   "metadata": {},
   "outputs": [],
   "source": [
    "grad=GradientBoostingClassifier(n_estimators=10)\n",
    "grad.fit(X_train,y_train)\n",
    "y_pred_grad=grad.predict(X_test)"
   ]
  },
  {
   "cell_type": "code",
   "execution_count": 25,
   "id": "9539401e",
   "metadata": {},
   "outputs": [
    {
     "name": "stdout",
     "output_type": "stream",
     "text": [
      "0.9\n",
      "0.9666666666666667\n",
      "0.9333333333333333\n",
      "0.9666666666666667\n"
     ]
    }
   ],
   "source": [
    "print(accuracy_score(y_pred_bagging,y_test))\n",
    "print(accuracy_score(y_pred_xgb,y_test))\n",
    "print(accuracy_score(y_pred_ada,y_test))\n",
    "print(accuracy_score(y_pred_grad,y_test))"
   ]
  }
 ],
 "metadata": {
  "kernelspec": {
   "display_name": ".venv (3.13.3)",
   "language": "python",
   "name": "python3"
  },
  "language_info": {
   "codemirror_mode": {
    "name": "ipython",
    "version": 3
   },
   "file_extension": ".py",
   "mimetype": "text/x-python",
   "name": "python",
   "nbconvert_exporter": "python",
   "pygments_lexer": "ipython3",
   "version": "3.13.3"
  }
 },
 "nbformat": 4,
 "nbformat_minor": 5
}
