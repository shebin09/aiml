{
  "cells": [
    {
      "cell_type": "code",
      "execution_count": 1,
      "metadata": {
        "id": "1uOEfL6w8GGP"
      },
      "outputs": [],
      "source": [
        "import pandas as pd"
      ]
    },
    {
      "cell_type": "code",
      "execution_count": 2,
      "metadata": {
        "id": "R9VHCw5g8TqG"
      },
      "outputs": [],
      "source": [
        "data=pd.read_csv('House_Pricing.csv')"
      ]
    },
    {
      "cell_type": "code",
      "execution_count": null,
      "metadata": {
        "colab": {
          "base_uri": "https://localhost:8080/",
          "height": 860
        },
        "id": "AFhd6WKL8gm-",
        "outputId": "e2a5605b-0646-4c49-c86d-31ed870942f1"
      },
      "outputs": [],
      "source": [
        "data"
      ]
    },
    {
      "cell_type": "code",
      "execution_count": null,
      "metadata": {
        "colab": {
          "base_uri": "https://localhost:8080/",
          "height": 743
        },
        "id": "rFc3ciO98j7j",
        "outputId": "c9681788-2ac9-449f-ae2f-3b07ee9c882f"
      },
      "outputs": [],
      "source": [
        "data.isna().sum()"
      ]
    },
    {
      "cell_type": "code",
      "execution_count": 3,
      "metadata": {
        "id": "Ui7Q1f2_8-pF"
      },
      "outputs": [],
      "source": [
        "data=data.drop(columns=['No of Times Visited'])"
      ]
    },
    {
      "cell_type": "code",
      "execution_count": 4,
      "metadata": {
        "id": "4RKluU3Z9Eb4"
      },
      "outputs": [],
      "source": [
        "num_feat=data.select_dtypes(include='number').columns.tolist()"
      ]
    },
    {
      "cell_type": "code",
      "execution_count": 5,
      "metadata": {
        "id": "TYSLKrTM9MZS"
      },
      "outputs": [],
      "source": [
        "cat_feat=data.select_dtypes(include='object').columns.tolist()"
      ]
    },
    {
      "cell_type": "code",
      "execution_count": 6,
      "metadata": {
        "colab": {
          "base_uri": "https://localhost:8080/",
          "height": 617
        },
        "id": "mPcwc8329SNj",
        "outputId": "bca82cdd-e665-40d4-f4ec-d34516862027"
      },
      "outputs": [
        {
          "data": {
            "text/plain": [
              "ID                                           0\n",
              "Sale Price                                   4\n",
              "No of Bedrooms                               0\n",
              "No of Bathrooms                              4\n",
              "Flat Area (in Sqft)                          9\n",
              "Lot Area (in Sqft)                           9\n",
              "No of Floors                                 0\n",
              "Overall Grade                                0\n",
              "Area of the House from Basement (in Sqft)    3\n",
              "Basement Area (in Sqft)                      0\n",
              "Age of House (in Years)                      0\n",
              "Renovated Year                               0\n",
              "Zipcode                                      1\n",
              "Latitude                                     1\n",
              "Longitude                                    1\n",
              "Living Area after Renovation (in Sqft)       1\n",
              "Lot Area after Renovation (in Sqft)          0\n",
              "dtype: int64"
            ]
          },
          "execution_count": 6,
          "metadata": {},
          "output_type": "execute_result"
        }
      ],
      "source": [
        "data[num_feat].isna().sum()\n"
      ]
    },
    {
      "cell_type": "code",
      "execution_count": null,
      "metadata": {
        "colab": {
          "base_uri": "https://localhost:8080/"
        },
        "id": "jJJc59zt9_YI",
        "outputId": "9d619bee-af5e-464a-ece4-7fc552f0d0ae"
      },
      "outputs": [
        {
          "name": "stderr",
          "output_type": "stream",
          "text": [
            "C:\\Users\\shebi\\AppData\\Local\\Temp\\ipykernel_22484\\3392191996.py:2: FutureWarning: A value is trying to be set on a copy of a DataFrame or Series through chained assignment using an inplace method.\n",
            "The behavior will change in pandas 3.0. This inplace method will never work because the intermediate object on which we are setting values always behaves as a copy.\n",
            "\n",
            "For example, when doing 'df[col].method(value, inplace=True)', try using 'df.method({col: value}, inplace=True)' or df[col] = df[col].method(value) instead, to perform the operation inplace on the original object.\n",
            "\n",
            "\n",
            "  data[i].fillna(data[i].mean(),inplace=True)\n"
          ]
        }
      ],
      "source": [
        "for i in num_feat:\n",
        "  data[i].fillna(data[i].mean(),inplace=True)"
      ]
    },
    {
      "cell_type": "code",
      "execution_count": 8,
      "metadata": {
        "colab": {
          "base_uri": "https://localhost:8080/",
          "height": 617
        },
        "id": "3ZouYuTa-Sca",
        "outputId": "5b173897-1ac6-4eb4-e9a0-e4f9e0154f6e"
      },
      "outputs": [
        {
          "data": {
            "text/plain": [
              "ID                                           0\n",
              "Sale Price                                   0\n",
              "No of Bedrooms                               0\n",
              "No of Bathrooms                              0\n",
              "Flat Area (in Sqft)                          0\n",
              "Lot Area (in Sqft)                           0\n",
              "No of Floors                                 0\n",
              "Overall Grade                                0\n",
              "Area of the House from Basement (in Sqft)    0\n",
              "Basement Area (in Sqft)                      0\n",
              "Age of House (in Years)                      0\n",
              "Renovated Year                               0\n",
              "Zipcode                                      0\n",
              "Latitude                                     0\n",
              "Longitude                                    0\n",
              "Living Area after Renovation (in Sqft)       0\n",
              "Lot Area after Renovation (in Sqft)          0\n",
              "dtype: int64"
            ]
          },
          "execution_count": 8,
          "metadata": {},
          "output_type": "execute_result"
        }
      ],
      "source": [
        "data[num_feat].isna().sum()"
      ]
    },
    {
      "cell_type": "code",
      "execution_count": 10,
      "metadata": {
        "id": "65qN-ngq-XD0"
      },
      "outputs": [
        {
          "name": "stderr",
          "output_type": "stream",
          "text": [
            "C:\\Users\\shebi\\AppData\\Local\\Temp\\ipykernel_22484\\2343913300.py:2: FutureWarning: A value is trying to be set on a copy of a DataFrame or Series through chained assignment using an inplace method.\n",
            "The behavior will change in pandas 3.0. This inplace method will never work because the intermediate object on which we are setting values always behaves as a copy.\n",
            "\n",
            "For example, when doing 'df[col].method(value, inplace=True)', try using 'df.method({col: value}, inplace=True)' or df[col] = df[col].method(value) instead, to perform the operation inplace on the original object.\n",
            "\n",
            "\n",
            "  data[i].fillna(data[i].mode(),inplace=True)\n"
          ]
        }
      ],
      "source": [
        "for i in cat_feat:\n",
        "  data[i].fillna(data[i].mode(),inplace=True)"
      ]
    },
    {
      "cell_type": "code",
      "execution_count": 9,
      "metadata": {
        "colab": {
          "base_uri": "https://localhost:8080/",
          "height": 178
        },
        "id": "F1qgsfYi-fnu",
        "outputId": "077485a9-ef72-48ae-90bd-9d152baae0db"
      },
      "outputs": [
        {
          "data": {
            "text/plain": [
              "Date House was Sold       0\n",
              "Waterfront View           0\n",
              "Condition of the House    0\n",
              "dtype: int64"
            ]
          },
          "execution_count": 9,
          "metadata": {},
          "output_type": "execute_result"
        }
      ],
      "source": [
        "data[cat_feat].isna().sum()"
      ]
    },
    {
      "cell_type": "code",
      "execution_count": 11,
      "metadata": {
        "id": "iTKYZTCe-ld-"
      },
      "outputs": [],
      "source": [
        "data['Date House was Sold']=pd.to_datetime(data['Date House was Sold'])"
      ]
    },
    {
      "cell_type": "code",
      "execution_count": null,
      "metadata": {
        "colab": {
          "base_uri": "https://localhost:8080/",
          "height": 721
        },
        "id": "piuuzPT0-0hY",
        "outputId": "83b8bd35-29f2-4900-bccd-170d350fb8bc"
      },
      "outputs": [],
      "source": [
        "data"
      ]
    },
    {
      "cell_type": "code",
      "execution_count": 12,
      "metadata": {
        "id": "yi6jfkq9_DEr"
      },
      "outputs": [],
      "source": [
        "data['sold year']=data['Date House was Sold'].dt.year\n",
        "data['month_sold'] = data['Date House was Sold'].dt.month\n",
        "data['day_sold'] = data['Date House was Sold'].dt.day\n",
        "data['dayofweek_sold'] = data['Date House was Sold'].dt.dayofweek"
      ]
    },
    {
      "cell_type": "code",
      "execution_count": 13,
      "metadata": {
        "colab": {
          "base_uri": "https://localhost:8080/",
          "height": 304
        },
        "id": "HgIi1w23_URU",
        "outputId": "995573e5-7c2c-48f5-e3aa-390d182199dd"
      },
      "outputs": [],
      "source": [
        "data=data.drop(columns=['Date House was Sold'])\n"
      ]
    },
    {
      "cell_type": "code",
      "execution_count": null,
      "metadata": {
        "colab": {
          "base_uri": "https://localhost:8080/",
          "height": 496
        },
        "id": "VzMQehDp_dK1",
        "outputId": "50468e60-ebcf-4c5f-ee22-7fafe9d6c2f0"
      },
      "outputs": [],
      "source": [
        "data"
      ]
    },
    {
      "cell_type": "code",
      "execution_count": 14,
      "metadata": {
        "id": "uDZBKWNC_hLW"
      },
      "outputs": [],
      "source": [
        "from sklearn.preprocessing import OneHotEncoder,LabelEncoder\n"
      ]
    },
    {
      "cell_type": "code",
      "execution_count": 15,
      "metadata": {
        "colab": {
          "base_uri": "https://localhost:8080/"
        },
        "id": "RoOmWMNAADmn",
        "outputId": "36a82b25-5c51-4861-bf8b-f7f19bba7193"
      },
      "outputs": [
        {
          "data": {
            "text/plain": [
              "['Waterfront View', 'Condition of the House']"
            ]
          },
          "execution_count": 15,
          "metadata": {},
          "output_type": "execute_result"
        }
      ],
      "source": [
        "cat_feat=data.select_dtypes(include='object').columns.tolist()\n",
        "cat_feat"
      ]
    },
    {
      "cell_type": "code",
      "execution_count": 16,
      "metadata": {
        "colab": {
          "base_uri": "https://localhost:8080/"
        },
        "id": "dgbRuHasAPtD",
        "outputId": "dd1d0cf4-647f-4c24-e275-b49053825402"
      },
      "outputs": [
        {
          "data": {
            "text/plain": [
              "dtype('float64')"
            ]
          },
          "execution_count": 16,
          "metadata": {},
          "output_type": "execute_result"
        }
      ],
      "source": [
        "data['Sale Price'].dtype"
      ]
    },
    {
      "cell_type": "code",
      "execution_count": 17,
      "metadata": {
        "id": "K0YobvM4BBp0"
      },
      "outputs": [],
      "source": [
        "data_enc=pd.get_dummies(data,drop_first=True,dtype='int')"
      ]
    },
    {
      "cell_type": "code",
      "execution_count": 18,
      "metadata": {
        "colab": {
          "base_uri": "https://localhost:8080/",
          "height": 548
        },
        "id": "e0d3BTUBBVR1",
        "outputId": "94fb00ae-b0ee-4625-e714-773c81e4246f"
      },
      "outputs": [
        {
          "data": {
            "text/html": [
              "<div>\n",
              "<style scoped>\n",
              "    .dataframe tbody tr th:only-of-type {\n",
              "        vertical-align: middle;\n",
              "    }\n",
              "\n",
              "    .dataframe tbody tr th {\n",
              "        vertical-align: top;\n",
              "    }\n",
              "\n",
              "    .dataframe thead th {\n",
              "        text-align: right;\n",
              "    }\n",
              "</style>\n",
              "<table border=\"1\" class=\"dataframe\">\n",
              "  <thead>\n",
              "    <tr style=\"text-align: right;\">\n",
              "      <th></th>\n",
              "      <th>ID</th>\n",
              "      <th>Sale Price</th>\n",
              "      <th>No of Bedrooms</th>\n",
              "      <th>No of Bathrooms</th>\n",
              "      <th>Flat Area (in Sqft)</th>\n",
              "      <th>Lot Area (in Sqft)</th>\n",
              "      <th>No of Floors</th>\n",
              "      <th>Overall Grade</th>\n",
              "      <th>Area of the House from Basement (in Sqft)</th>\n",
              "      <th>Basement Area (in Sqft)</th>\n",
              "      <th>...</th>\n",
              "      <th>Lot Area after Renovation (in Sqft)</th>\n",
              "      <th>sold year</th>\n",
              "      <th>month_sold</th>\n",
              "      <th>day_sold</th>\n",
              "      <th>dayofweek_sold</th>\n",
              "      <th>Waterfront View_Yes</th>\n",
              "      <th>Condition of the House_Excellent</th>\n",
              "      <th>Condition of the House_Fair</th>\n",
              "      <th>Condition of the House_Good</th>\n",
              "      <th>Condition of the House_Okay</th>\n",
              "    </tr>\n",
              "  </thead>\n",
              "  <tbody>\n",
              "    <tr>\n",
              "      <th>0</th>\n",
              "      <td>7129300520</td>\n",
              "      <td>221900.0</td>\n",
              "      <td>3</td>\n",
              "      <td>1.00</td>\n",
              "      <td>1180.0</td>\n",
              "      <td>5650.0</td>\n",
              "      <td>1.0</td>\n",
              "      <td>7</td>\n",
              "      <td>1180.0</td>\n",
              "      <td>0</td>\n",
              "      <td>...</td>\n",
              "      <td>5650</td>\n",
              "      <td>2017</td>\n",
              "      <td>10</td>\n",
              "      <td>14</td>\n",
              "      <td>5</td>\n",
              "      <td>0</td>\n",
              "      <td>0</td>\n",
              "      <td>1</td>\n",
              "      <td>0</td>\n",
              "      <td>0</td>\n",
              "    </tr>\n",
              "    <tr>\n",
              "      <th>1</th>\n",
              "      <td>6414100192</td>\n",
              "      <td>538000.0</td>\n",
              "      <td>3</td>\n",
              "      <td>2.25</td>\n",
              "      <td>2570.0</td>\n",
              "      <td>7242.0</td>\n",
              "      <td>2.0</td>\n",
              "      <td>7</td>\n",
              "      <td>2170.0</td>\n",
              "      <td>400</td>\n",
              "      <td>...</td>\n",
              "      <td>7639</td>\n",
              "      <td>2017</td>\n",
              "      <td>12</td>\n",
              "      <td>14</td>\n",
              "      <td>3</td>\n",
              "      <td>0</td>\n",
              "      <td>0</td>\n",
              "      <td>1</td>\n",
              "      <td>0</td>\n",
              "      <td>0</td>\n",
              "    </tr>\n",
              "    <tr>\n",
              "      <th>2</th>\n",
              "      <td>5631500400</td>\n",
              "      <td>180000.0</td>\n",
              "      <td>2</td>\n",
              "      <td>1.00</td>\n",
              "      <td>770.0</td>\n",
              "      <td>10000.0</td>\n",
              "      <td>1.0</td>\n",
              "      <td>6</td>\n",
              "      <td>770.0</td>\n",
              "      <td>0</td>\n",
              "      <td>...</td>\n",
              "      <td>8062</td>\n",
              "      <td>2016</td>\n",
              "      <td>2</td>\n",
              "      <td>15</td>\n",
              "      <td>0</td>\n",
              "      <td>0</td>\n",
              "      <td>0</td>\n",
              "      <td>1</td>\n",
              "      <td>0</td>\n",
              "      <td>0</td>\n",
              "    </tr>\n",
              "    <tr>\n",
              "      <th>3</th>\n",
              "      <td>2487200875</td>\n",
              "      <td>604000.0</td>\n",
              "      <td>4</td>\n",
              "      <td>3.00</td>\n",
              "      <td>1960.0</td>\n",
              "      <td>5000.0</td>\n",
              "      <td>1.0</td>\n",
              "      <td>7</td>\n",
              "      <td>1050.0</td>\n",
              "      <td>910</td>\n",
              "      <td>...</td>\n",
              "      <td>5000</td>\n",
              "      <td>2017</td>\n",
              "      <td>12</td>\n",
              "      <td>14</td>\n",
              "      <td>3</td>\n",
              "      <td>0</td>\n",
              "      <td>1</td>\n",
              "      <td>0</td>\n",
              "      <td>0</td>\n",
              "      <td>0</td>\n",
              "    </tr>\n",
              "    <tr>\n",
              "      <th>4</th>\n",
              "      <td>1954400510</td>\n",
              "      <td>510000.0</td>\n",
              "      <td>3</td>\n",
              "      <td>2.00</td>\n",
              "      <td>1680.0</td>\n",
              "      <td>8080.0</td>\n",
              "      <td>1.0</td>\n",
              "      <td>8</td>\n",
              "      <td>1680.0</td>\n",
              "      <td>0</td>\n",
              "      <td>...</td>\n",
              "      <td>7503</td>\n",
              "      <td>2016</td>\n",
              "      <td>2</td>\n",
              "      <td>15</td>\n",
              "      <td>0</td>\n",
              "      <td>0</td>\n",
              "      <td>0</td>\n",
              "      <td>1</td>\n",
              "      <td>0</td>\n",
              "      <td>0</td>\n",
              "    </tr>\n",
              "    <tr>\n",
              "      <th>...</th>\n",
              "      <td>...</td>\n",
              "      <td>...</td>\n",
              "      <td>...</td>\n",
              "      <td>...</td>\n",
              "      <td>...</td>\n",
              "      <td>...</td>\n",
              "      <td>...</td>\n",
              "      <td>...</td>\n",
              "      <td>...</td>\n",
              "      <td>...</td>\n",
              "      <td>...</td>\n",
              "      <td>...</td>\n",
              "      <td>...</td>\n",
              "      <td>...</td>\n",
              "      <td>...</td>\n",
              "      <td>...</td>\n",
              "      <td>...</td>\n",
              "      <td>...</td>\n",
              "      <td>...</td>\n",
              "      <td>...</td>\n",
              "      <td>...</td>\n",
              "    </tr>\n",
              "    <tr>\n",
              "      <th>21608</th>\n",
              "      <td>263000018</td>\n",
              "      <td>360000.0</td>\n",
              "      <td>3</td>\n",
              "      <td>2.50</td>\n",
              "      <td>1530.0</td>\n",
              "      <td>1131.0</td>\n",
              "      <td>3.0</td>\n",
              "      <td>8</td>\n",
              "      <td>1530.0</td>\n",
              "      <td>0</td>\n",
              "      <td>...</td>\n",
              "      <td>1509</td>\n",
              "      <td>2017</td>\n",
              "      <td>5</td>\n",
              "      <td>14</td>\n",
              "      <td>6</td>\n",
              "      <td>0</td>\n",
              "      <td>0</td>\n",
              "      <td>1</td>\n",
              "      <td>0</td>\n",
              "      <td>0</td>\n",
              "    </tr>\n",
              "    <tr>\n",
              "      <th>21609</th>\n",
              "      <td>6600060120</td>\n",
              "      <td>400000.0</td>\n",
              "      <td>4</td>\n",
              "      <td>2.50</td>\n",
              "      <td>2310.0</td>\n",
              "      <td>5813.0</td>\n",
              "      <td>2.0</td>\n",
              "      <td>8</td>\n",
              "      <td>2310.0</td>\n",
              "      <td>0</td>\n",
              "      <td>...</td>\n",
              "      <td>7200</td>\n",
              "      <td>2016</td>\n",
              "      <td>2</td>\n",
              "      <td>15</td>\n",
              "      <td>0</td>\n",
              "      <td>0</td>\n",
              "      <td>0</td>\n",
              "      <td>1</td>\n",
              "      <td>0</td>\n",
              "      <td>0</td>\n",
              "    </tr>\n",
              "    <tr>\n",
              "      <th>21610</th>\n",
              "      <td>1523300141</td>\n",
              "      <td>402101.0</td>\n",
              "      <td>2</td>\n",
              "      <td>0.75</td>\n",
              "      <td>1020.0</td>\n",
              "      <td>1350.0</td>\n",
              "      <td>2.0</td>\n",
              "      <td>7</td>\n",
              "      <td>1020.0</td>\n",
              "      <td>0</td>\n",
              "      <td>...</td>\n",
              "      <td>2007</td>\n",
              "      <td>2017</td>\n",
              "      <td>6</td>\n",
              "      <td>14</td>\n",
              "      <td>2</td>\n",
              "      <td>0</td>\n",
              "      <td>0</td>\n",
              "      <td>1</td>\n",
              "      <td>0</td>\n",
              "      <td>0</td>\n",
              "    </tr>\n",
              "    <tr>\n",
              "      <th>21611</th>\n",
              "      <td>291310100</td>\n",
              "      <td>400000.0</td>\n",
              "      <td>3</td>\n",
              "      <td>2.50</td>\n",
              "      <td>1600.0</td>\n",
              "      <td>2388.0</td>\n",
              "      <td>2.0</td>\n",
              "      <td>8</td>\n",
              "      <td>1600.0</td>\n",
              "      <td>0</td>\n",
              "      <td>...</td>\n",
              "      <td>1287</td>\n",
              "      <td>2016</td>\n",
              "      <td>1</td>\n",
              "      <td>15</td>\n",
              "      <td>4</td>\n",
              "      <td>0</td>\n",
              "      <td>0</td>\n",
              "      <td>1</td>\n",
              "      <td>0</td>\n",
              "      <td>0</td>\n",
              "    </tr>\n",
              "    <tr>\n",
              "      <th>21612</th>\n",
              "      <td>1523300157</td>\n",
              "      <td>325000.0</td>\n",
              "      <td>2</td>\n",
              "      <td>0.75</td>\n",
              "      <td>1020.0</td>\n",
              "      <td>1076.0</td>\n",
              "      <td>2.0</td>\n",
              "      <td>7</td>\n",
              "      <td>1020.0</td>\n",
              "      <td>0</td>\n",
              "      <td>...</td>\n",
              "      <td>1357</td>\n",
              "      <td>2017</td>\n",
              "      <td>10</td>\n",
              "      <td>14</td>\n",
              "      <td>5</td>\n",
              "      <td>0</td>\n",
              "      <td>0</td>\n",
              "      <td>1</td>\n",
              "      <td>0</td>\n",
              "      <td>0</td>\n",
              "    </tr>\n",
              "  </tbody>\n",
              "</table>\n",
              "<p>21613 rows × 26 columns</p>\n",
              "</div>"
            ],
            "text/plain": [
              "               ID  Sale Price  No of Bedrooms  No of Bathrooms  \\\n",
              "0      7129300520    221900.0               3             1.00   \n",
              "1      6414100192    538000.0               3             2.25   \n",
              "2      5631500400    180000.0               2             1.00   \n",
              "3      2487200875    604000.0               4             3.00   \n",
              "4      1954400510    510000.0               3             2.00   \n",
              "...           ...         ...             ...              ...   \n",
              "21608   263000018    360000.0               3             2.50   \n",
              "21609  6600060120    400000.0               4             2.50   \n",
              "21610  1523300141    402101.0               2             0.75   \n",
              "21611   291310100    400000.0               3             2.50   \n",
              "21612  1523300157    325000.0               2             0.75   \n",
              "\n",
              "       Flat Area (in Sqft)  Lot Area (in Sqft)  No of Floors  Overall Grade  \\\n",
              "0                   1180.0              5650.0           1.0              7   \n",
              "1                   2570.0              7242.0           2.0              7   \n",
              "2                    770.0             10000.0           1.0              6   \n",
              "3                   1960.0              5000.0           1.0              7   \n",
              "4                   1680.0              8080.0           1.0              8   \n",
              "...                    ...                 ...           ...            ...   \n",
              "21608               1530.0              1131.0           3.0              8   \n",
              "21609               2310.0              5813.0           2.0              8   \n",
              "21610               1020.0              1350.0           2.0              7   \n",
              "21611               1600.0              2388.0           2.0              8   \n",
              "21612               1020.0              1076.0           2.0              7   \n",
              "\n",
              "       Area of the House from Basement (in Sqft)  Basement Area (in Sqft)  \\\n",
              "0                                         1180.0                        0   \n",
              "1                                         2170.0                      400   \n",
              "2                                          770.0                        0   \n",
              "3                                         1050.0                      910   \n",
              "4                                         1680.0                        0   \n",
              "...                                          ...                      ...   \n",
              "21608                                     1530.0                        0   \n",
              "21609                                     2310.0                        0   \n",
              "21610                                     1020.0                        0   \n",
              "21611                                     1600.0                        0   \n",
              "21612                                     1020.0                        0   \n",
              "\n",
              "       ...  Lot Area after Renovation (in Sqft)  sold year  month_sold  \\\n",
              "0      ...                                 5650       2017          10   \n",
              "1      ...                                 7639       2017          12   \n",
              "2      ...                                 8062       2016           2   \n",
              "3      ...                                 5000       2017          12   \n",
              "4      ...                                 7503       2016           2   \n",
              "...    ...                                  ...        ...         ...   \n",
              "21608  ...                                 1509       2017           5   \n",
              "21609  ...                                 7200       2016           2   \n",
              "21610  ...                                 2007       2017           6   \n",
              "21611  ...                                 1287       2016           1   \n",
              "21612  ...                                 1357       2017          10   \n",
              "\n",
              "       day_sold  dayofweek_sold  Waterfront View_Yes  \\\n",
              "0            14               5                    0   \n",
              "1            14               3                    0   \n",
              "2            15               0                    0   \n",
              "3            14               3                    0   \n",
              "4            15               0                    0   \n",
              "...         ...             ...                  ...   \n",
              "21608        14               6                    0   \n",
              "21609        15               0                    0   \n",
              "21610        14               2                    0   \n",
              "21611        15               4                    0   \n",
              "21612        14               5                    0   \n",
              "\n",
              "       Condition of the House_Excellent  Condition of the House_Fair  \\\n",
              "0                                     0                            1   \n",
              "1                                     0                            1   \n",
              "2                                     0                            1   \n",
              "3                                     1                            0   \n",
              "4                                     0                            1   \n",
              "...                                 ...                          ...   \n",
              "21608                                 0                            1   \n",
              "21609                                 0                            1   \n",
              "21610                                 0                            1   \n",
              "21611                                 0                            1   \n",
              "21612                                 0                            1   \n",
              "\n",
              "       Condition of the House_Good  Condition of the House_Okay  \n",
              "0                                0                            0  \n",
              "1                                0                            0  \n",
              "2                                0                            0  \n",
              "3                                0                            0  \n",
              "4                                0                            0  \n",
              "...                            ...                          ...  \n",
              "21608                            0                            0  \n",
              "21609                            0                            0  \n",
              "21610                            0                            0  \n",
              "21611                            0                            0  \n",
              "21612                            0                            0  \n",
              "\n",
              "[21613 rows x 26 columns]"
            ]
          },
          "execution_count": 18,
          "metadata": {},
          "output_type": "execute_result"
        }
      ],
      "source": [
        "data_enc"
      ]
    },
    {
      "cell_type": "code",
      "execution_count": 20,
      "metadata": {
        "colab": {
          "base_uri": "https://localhost:8080/"
        },
        "id": "7QlDJYdABf6W",
        "outputId": "7c56b71d-6ea0-4650-b384-03ee0d0b2759"
      },
      "outputs": [
        {
          "data": {
            "text/plain": [
              "['No of Bedrooms',\n",
              " 'No of Bathrooms',\n",
              " 'Flat Area (in Sqft)',\n",
              " 'Lot Area (in Sqft)',\n",
              " 'No of Floors',\n",
              " 'Overall Grade',\n",
              " 'Area of the House from Basement (in Sqft)',\n",
              " 'Basement Area (in Sqft)',\n",
              " 'Age of House (in Years)',\n",
              " 'Renovated Year',\n",
              " 'Zipcode',\n",
              " 'Latitude',\n",
              " 'Longitude',\n",
              " 'Living Area after Renovation (in Sqft)',\n",
              " 'Lot Area after Renovation (in Sqft)',\n",
              " 'sold year',\n",
              " 'month_sold',\n",
              " 'day_sold',\n",
              " 'dayofweek_sold',\n",
              " 'Waterfront View_Yes',\n",
              " 'Condition of the House_Excellent',\n",
              " 'Condition of the House_Fair',\n",
              " 'Condition of the House_Good',\n",
              " 'Condition of the House_Okay']"
            ]
          },
          "execution_count": 20,
          "metadata": {},
          "output_type": "execute_result"
        }
      ],
      "source": [
        "num_feat=X.select_dtypes(include='number').columns.tolist()\n",
        "num_feat"
      ]
    },
    {
      "cell_type": "code",
      "execution_count": 19,
      "metadata": {
        "id": "Sq_kdpqbB0SY"
      },
      "outputs": [],
      "source": [
        "from sklearn.model_selection import train_test_split\n",
        "\n",
        "X=data_enc.drop(columns=['Sale Price','ID'])\n",
        "y=data_enc['Sale Price']\n"
      ]
    },
    {
      "cell_type": "code",
      "execution_count": 21,
      "metadata": {},
      "outputs": [],
      "source": [
        "X_train,X_test,y_train,y_test=train_test_split(X,y,test_size=0.25)"
      ]
    },
    {
      "cell_type": "code",
      "execution_count": 22,
      "metadata": {
        "id": "jac_lfFZBrCI"
      },
      "outputs": [],
      "source": [
        "from sklearn.preprocessing import StandardScaler\n",
        "scaler=StandardScaler()\n",
        "X_train[num_feat]=scaler.fit_transform(X_train[num_feat])\n",
        "X_test[num_feat]=scaler.transform(X_test[num_feat])\n"
      ]
    },
    {
      "cell_type": "code",
      "execution_count": null,
      "metadata": {},
      "outputs": [],
      "source": [
        "y_train.shape\n",
        "y_test.isna().sum()"
      ]
    },
    {
      "cell_type": "code",
      "execution_count": 27,
      "metadata": {},
      "outputs": [],
      "source": [
        "y_train = y_train.reshape(-1,1)\n",
        "y_test  = y_test.reshape(-1,1)\n"
      ]
    },
    {
      "cell_type": "code",
      "execution_count": null,
      "metadata": {},
      "outputs": [],
      "source": [
        "y_train"
      ]
    },
    {
      "cell_type": "code",
      "execution_count": 28,
      "metadata": {
        "id": "Wqn6liMjIPyq"
      },
      "outputs": [],
      "source": [
        "y_train = scaler.fit_transform(y_train)\n",
        "y_test  = scaler.transform(y_test)"
      ]
    },
    {
      "cell_type": "code",
      "execution_count": 24,
      "metadata": {
        "id": "3GJi1gQ_DlRW"
      },
      "outputs": [],
      "source": [
        "import numpy as np\n",
        "X_train=np.array(X_train)\n",
        "X_test=np.array(X_test)\n",
        "y_train=np.array(y_train)\n",
        "y_test=np.array(y_test)"
      ]
    },
    {
      "cell_type": "code",
      "execution_count": null,
      "metadata": {
        "colab": {
          "base_uri": "https://localhost:8080/"
        },
        "id": "_blawPBJECKd",
        "outputId": "36e15f51-d9c7-4a13-b916-7295badc89fc"
      },
      "outputs": [],
      "source": [
        "X_test"
      ]
    },
    {
      "cell_type": "code",
      "execution_count": 29,
      "metadata": {
        "id": "bb4MQdzXCuHh"
      },
      "outputs": [],
      "source": [
        "import torch\n",
        "\n",
        "X_train =torch.tensor(X_train,dtype=torch.float32)\n",
        "X_test =torch.tensor(X_test,dtype=torch.float32)\n",
        "y_train =torch.tensor(y_train,dtype=torch.float32).view(-1,1)\n",
        "y_test =torch.tensor(y_test,dtype=torch.float32).view(-1,1)"
      ]
    },
    {
      "cell_type": "code",
      "execution_count": 30,
      "metadata": {
        "colab": {
          "base_uri": "https://localhost:8080/"
        },
        "id": "Nub-Ey-hHbM1",
        "outputId": "d9f4f32e-6b83-450a-e253-fe35fc27bb17"
      },
      "outputs": [
        {
          "data": {
            "text/plain": [
              "torch.Size([16209, 1])"
            ]
          },
          "execution_count": 30,
          "metadata": {},
          "output_type": "execute_result"
        }
      ],
      "source": [
        "y_train.shape"
      ]
    },
    {
      "cell_type": "code",
      "execution_count": 31,
      "metadata": {
        "id": "CY1U3Db3FFxP"
      },
      "outputs": [],
      "source": [
        "import torch.nn as nn\n",
        "\n",
        "class HousePriceNN(nn.Module):\n",
        "  def __init__(self,input_dim):\n",
        "    super(HousePriceNN,self).__init__()\n",
        "    self.fc1=nn.Linear(input_dim,128)\n",
        "    self.fc2=nn.Linear(128,64)\n",
        "    self.fc3=nn.Linear(64,32)\n",
        "    self.fc4=nn.Linear(32,1)\n",
        "    self.relu=nn.ReLU()\n",
        "    self.dropout=nn.Dropout(0.3)\n",
        "  def forward(self,x):\n",
        "    x=self.relu(self.fc1(x))\n",
        "    x=self.dropout(x)\n",
        "    x=self.relu(self.fc2(x))\n",
        "    x=self.dropout(x)\n",
        "    x=self.relu(self.fc3(x))\n",
        "    x=self.fc4(x)\n",
        "    return x"
      ]
    },
    {
      "cell_type": "code",
      "execution_count": 33,
      "metadata": {
        "id": "8zPpZSFSGbvv"
      },
      "outputs": [],
      "source": [
        "model=HousePriceNN(X_train.shape[1])\n",
        "criterion=nn.MSELoss()\n",
        "optimizer=torch.optim.Adam(model.parameters(),lr=0.0001)"
      ]
    },
    {
      "cell_type": "code",
      "execution_count": 36,
      "metadata": {
        "colab": {
          "base_uri": "https://localhost:8080/"
        },
        "id": "wwPTYq9sGySI",
        "outputId": "317648bf-2f17-426e-d305-78fd0b8add01"
      },
      "outputs": [
        {
          "name": "stdout",
          "output_type": "stream",
          "text": [
            "Epoch [1/100], Loss: 0.8350\n",
            "Epoch [2/100], Loss: 0.8332\n",
            "Epoch [3/100], Loss: 0.8273\n",
            "Epoch [4/100], Loss: 0.8249\n",
            "Epoch [5/100], Loss: 0.8193\n",
            "Epoch [6/100], Loss: 0.8167\n",
            "Epoch [7/100], Loss: 0.8123\n",
            "Epoch [8/100], Loss: 0.8092\n",
            "Epoch [9/100], Loss: 0.8047\n",
            "Epoch [10/100], Loss: 0.8065\n",
            "Epoch [11/100], Loss: 0.7970\n",
            "Epoch [12/100], Loss: 0.7912\n",
            "Epoch [13/100], Loss: 0.7901\n",
            "Epoch [14/100], Loss: 0.7850\n",
            "Epoch [15/100], Loss: 0.7836\n",
            "Epoch [16/100], Loss: 0.7789\n",
            "Epoch [17/100], Loss: 0.7731\n",
            "Epoch [18/100], Loss: 0.7735\n",
            "Epoch [19/100], Loss: 0.7662\n",
            "Epoch [20/100], Loss: 0.7660\n",
            "Epoch [21/100], Loss: 0.7576\n",
            "Epoch [22/100], Loss: 0.7550\n",
            "Epoch [23/100], Loss: 0.7534\n",
            "Epoch [24/100], Loss: 0.7440\n",
            "Epoch [25/100], Loss: 0.7406\n",
            "Epoch [26/100], Loss: 0.7370\n",
            "Epoch [27/100], Loss: 0.7359\n",
            "Epoch [28/100], Loss: 0.7266\n",
            "Epoch [29/100], Loss: 0.7161\n",
            "Epoch [30/100], Loss: 0.7118\n",
            "Epoch [31/100], Loss: 0.7077\n",
            "Epoch [32/100], Loss: 0.7085\n",
            "Epoch [33/100], Loss: 0.7015\n",
            "Epoch [34/100], Loss: 0.6976\n",
            "Epoch [35/100], Loss: 0.6919\n",
            "Epoch [36/100], Loss: 0.6926\n",
            "Epoch [37/100], Loss: 0.6847\n",
            "Epoch [38/100], Loss: 0.6759\n",
            "Epoch [39/100], Loss: 0.6728\n",
            "Epoch [40/100], Loss: 0.6653\n",
            "Epoch [41/100], Loss: 0.6682\n",
            "Epoch [42/100], Loss: 0.6591\n",
            "Epoch [43/100], Loss: 0.6504\n",
            "Epoch [44/100], Loss: 0.6476\n",
            "Epoch [45/100], Loss: 0.6418\n",
            "Epoch [46/100], Loss: 0.6361\n",
            "Epoch [47/100], Loss: 0.6367\n",
            "Epoch [48/100], Loss: 0.6260\n",
            "Epoch [49/100], Loss: 0.6252\n",
            "Epoch [50/100], Loss: 0.6185\n",
            "Epoch [51/100], Loss: 0.6102\n",
            "Epoch [52/100], Loss: 0.6041\n",
            "Epoch [53/100], Loss: 0.6066\n",
            "Epoch [54/100], Loss: 0.5945\n",
            "Epoch [55/100], Loss: 0.5902\n",
            "Epoch [56/100], Loss: 0.5924\n",
            "Epoch [57/100], Loss: 0.5850\n",
            "Epoch [58/100], Loss: 0.5761\n",
            "Epoch [59/100], Loss: 0.5681\n",
            "Epoch [60/100], Loss: 0.5690\n",
            "Epoch [61/100], Loss: 0.5646\n",
            "Epoch [62/100], Loss: 0.5602\n",
            "Epoch [63/100], Loss: 0.5606\n",
            "Epoch [64/100], Loss: 0.5568\n",
            "Epoch [65/100], Loss: 0.5475\n",
            "Epoch [66/100], Loss: 0.5426\n",
            "Epoch [67/100], Loss: 0.5402\n",
            "Epoch [68/100], Loss: 0.5335\n",
            "Epoch [69/100], Loss: 0.5309\n",
            "Epoch [70/100], Loss: 0.5236\n",
            "Epoch [71/100], Loss: 0.5246\n",
            "Epoch [72/100], Loss: 0.5144\n",
            "Epoch [73/100], Loss: 0.5074\n",
            "Epoch [74/100], Loss: 0.5108\n",
            "Epoch [75/100], Loss: 0.5067\n",
            "Epoch [76/100], Loss: 0.5059\n",
            "Epoch [77/100], Loss: 0.4898\n",
            "Epoch [78/100], Loss: 0.4903\n",
            "Epoch [79/100], Loss: 0.4863\n",
            "Epoch [80/100], Loss: 0.4771\n",
            "Epoch [81/100], Loss: 0.4790\n",
            "Epoch [82/100], Loss: 0.4786\n",
            "Epoch [83/100], Loss: 0.4719\n",
            "Epoch [84/100], Loss: 0.4759\n",
            "Epoch [85/100], Loss: 0.4692\n",
            "Epoch [86/100], Loss: 0.4608\n",
            "Epoch [87/100], Loss: 0.4659\n",
            "Epoch [88/100], Loss: 0.4589\n",
            "Epoch [89/100], Loss: 0.4624\n",
            "Epoch [90/100], Loss: 0.4502\n",
            "Epoch [91/100], Loss: 0.4508\n",
            "Epoch [92/100], Loss: 0.4465\n",
            "Epoch [93/100], Loss: 0.4450\n",
            "Epoch [94/100], Loss: 0.4453\n",
            "Epoch [95/100], Loss: 0.4428\n",
            "Epoch [96/100], Loss: 0.4430\n",
            "Epoch [97/100], Loss: 0.4416\n",
            "Epoch [98/100], Loss: 0.4393\n",
            "Epoch [99/100], Loss: 0.4344\n",
            "Epoch [100/100], Loss: 0.4333\n"
          ]
        }
      ],
      "source": [
        "epochs=100\n",
        "for epoch in range(epochs):\n",
        "  model.train()\n",
        "  optimizer.zero_grad()\n",
        "  outputs=model(X_train)\n",
        "  loss=criterion(outputs,y_train)\n",
        "  loss.backward()\n",
        "  optimizer.step()\n",
        "  print(f\"Epoch [{epoch+1}/{epochs}], Loss: {loss.item():.4f}\")\n"
      ]
    },
    {
      "cell_type": "code",
      "execution_count": 39,
      "metadata": {},
      "outputs": [
        {
          "name": "stdout",
          "output_type": "stream",
          "text": [
            "MSE:0.42914026975631714\n"
          ]
        }
      ],
      "source": [
        "model.eval()\n",
        "with torch.no_grad():\n",
        "    preds=model(X_test)\n",
        "    mse=criterion(preds,y_test)\n",
        "    print(f\"MSE:{mse}\")"
      ]
    },
    {
      "cell_type": "code",
      "execution_count": 40,
      "metadata": {},
      "outputs": [],
      "source": [
        "torch.save(model.state_dict(),'model_weights.pth')"
      ]
    },
    {
      "cell_type": "code",
      "execution_count": 41,
      "metadata": {},
      "outputs": [
        {
          "data": {
            "text/plain": [
              "HousePriceNN(\n",
              "  (fc1): Linear(in_features=24, out_features=128, bias=True)\n",
              "  (fc2): Linear(in_features=128, out_features=64, bias=True)\n",
              "  (fc3): Linear(in_features=64, out_features=32, bias=True)\n",
              "  (fc4): Linear(in_features=32, out_features=1, bias=True)\n",
              "  (relu): ReLU()\n",
              "  (dropout): Dropout(p=0.3, inplace=False)\n",
              ")"
            ]
          },
          "execution_count": 41,
          "metadata": {},
          "output_type": "execute_result"
        }
      ],
      "source": [
        "model.load_state_dict(torch.load('model_weights.pth',weights_only=True))\n",
        "model.eval()"
      ]
    }
  ],
  "metadata": {
    "accelerator": "GPU",
    "colab": {
      "gpuType": "T4",
      "provenance": []
    },
    "kernelspec": {
      "display_name": ".venv (3.13.3)",
      "language": "python",
      "name": "python3"
    },
    "language_info": {
      "codemirror_mode": {
        "name": "ipython",
        "version": 3
      },
      "file_extension": ".py",
      "mimetype": "text/x-python",
      "name": "python",
      "nbconvert_exporter": "python",
      "pygments_lexer": "ipython3",
      "version": "3.13.3"
    }
  },
  "nbformat": 4,
  "nbformat_minor": 0
}
