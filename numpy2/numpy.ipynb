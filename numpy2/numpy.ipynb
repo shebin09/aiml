{
 "cells": [
  {
   "cell_type": "code",
   "execution_count": 4,
   "id": "b71b855c",
   "metadata": {},
   "outputs": [],
   "source": [
    "import numpy as np\n",
    "\n",
    "a=np.array([1,2,3])\n",
    "b=np.array([[4,5,6],[7,8,9]])"
   ]
  },
  {
   "cell_type": "code",
   "execution_count": null,
   "id": "3b5a8e7e",
   "metadata": {},
   "outputs": [
    {
     "data": {
      "text/plain": [
       "(3,)"
      ]
     },
     "execution_count": 7,
     "metadata": {},
     "output_type": "execute_result"
    }
   ],
   "source": [
    "b.shape  # to get shape\n",
    "a.shape"
   ]
  },
  {
   "cell_type": "code",
   "execution_count": null,
   "id": "d6847711",
   "metadata": {},
   "outputs": [
    {
     "data": {
      "text/plain": [
       "3"
      ]
     },
     "execution_count": 13,
     "metadata": {},
     "output_type": "execute_result"
    }
   ],
   "source": [
    "a.ndim #to get dimensions\n",
    "a.dtype #to get data type\n",
    "a.itemsize # to get byte length\n",
    "a.size #to get length of array"
   ]
  },
  {
   "cell_type": "code",
   "execution_count": 18,
   "id": "09d42e1f",
   "metadata": {},
   "outputs": [
    {
     "name": "stdout",
     "output_type": "stream",
     "text": [
      "[[4 2 6]\n",
      " [7 3 9]]\n"
     ]
    }
   ],
   "source": [
    "b[1,2]\n",
    "b[:,1]=[2,3]\n",
    "print(b)"
   ]
  },
  {
   "cell_type": "code",
   "execution_count": 20,
   "id": "fd5075a6",
   "metadata": {},
   "outputs": [
    {
     "data": {
      "text/plain": [
       "np.int64(3)"
      ]
     },
     "execution_count": 20,
     "metadata": {},
     "output_type": "execute_result"
    }
   ],
   "source": [
    "x=np.array([[[1,2],[3,4]],\n",
    "[[5,6],[7,8]]])\n",
    "x[0,1,0]"
   ]
  },
  {
   "cell_type": "code",
   "execution_count": null,
   "id": "a9743cdc",
   "metadata": {},
   "outputs": [
    {
     "data": {
      "text/plain": [
       "array([[22, 22, 22, 22, 22],\n",
       "       [22, 22, 22, 22, 22],\n",
       "       [22, 22, 22, 22, 22],\n",
       "       [22, 22, 22, 22, 22],\n",
       "       [22, 22, 22, 22, 22]])"
      ]
     },
     "execution_count": 27,
     "metadata": {},
     "output_type": "execute_result"
    }
   ],
   "source": [
    "a=np.zeros((2,3)) #to initialize zero matrix\n",
    "a\n",
    "b=np.ones((2,3))\n",
    "b\n",
    "c=np.full((5,5),22) #to initialize with any given number\n",
    "c"
   ]
  },
  {
   "cell_type": "code",
   "execution_count": 36,
   "id": "5bc3b701",
   "metadata": {},
   "outputs": [
    {
     "data": {
      "text/plain": [
       "array([[5, 6],\n",
       "       [8, 3],\n",
       "       [9, 4],\n",
       "       [7, 1]], dtype=int32)"
      ]
     },
     "execution_count": 36,
     "metadata": {},
     "output_type": "execute_result"
    }
   ],
   "source": [
    "np.random.rand(4,2)\n",
    "np.random.randint(10,size=(4,2))"
   ]
  },
  {
   "cell_type": "code",
   "execution_count": null,
   "id": "28b86302",
   "metadata": {},
   "outputs": [
    {
     "data": {
      "text/plain": [
       "array([[1., 0., 0.],\n",
       "       [0., 1., 0.],\n",
       "       [0., 0., 1.]])"
      ]
     },
     "execution_count": 38,
     "metadata": {},
     "output_type": "execute_result"
    }
   ],
   "source": [
    "np.identity(3) #to get identity matrix"
   ]
  },
  {
   "cell_type": "code",
   "execution_count": 45,
   "id": "725daa26",
   "metadata": {},
   "outputs": [
    {
     "data": {
      "text/plain": [
       "array([[[1, 2],\n",
       "        [1, 2],\n",
       "        [1, 2],\n",
       "        [3, 4],\n",
       "        [3, 4],\n",
       "        [3, 4]],\n",
       "\n",
       "       [[5, 6],\n",
       "        [5, 6],\n",
       "        [5, 6],\n",
       "        [7, 8],\n",
       "        [7, 8],\n",
       "        [7, 8]]])"
      ]
     },
     "execution_count": 45,
     "metadata": {},
     "output_type": "execute_result"
    }
   ],
   "source": [
    "y=np.repeat(x,3,axis=1)\n",
    "y"
   ]
  },
  {
   "cell_type": "code",
   "execution_count": 52,
   "id": "f5f0a261",
   "metadata": {},
   "outputs": [
    {
     "data": {
      "text/plain": [
       "array([[1., 1., 1., 1., 1.],\n",
       "       [1., 0., 0., 0., 1.],\n",
       "       [1., 0., 9., 0., 1.],\n",
       "       [1., 0., 0., 0., 1.],\n",
       "       [1., 1., 1., 1., 1.]])"
      ]
     },
     "execution_count": 52,
     "metadata": {},
     "output_type": "execute_result"
    }
   ],
   "source": [
    "a=np.ones((5,5))\n",
    "a[1:4,1:4]=0\n",
    "a[2,2]=9\n",
    "a"
   ]
  },
  {
   "cell_type": "code",
   "execution_count": null,
   "id": "457a70d5",
   "metadata": {},
   "outputs": [
    {
     "data": {
      "text/plain": [
       "array([100,   2,   3])"
      ]
     },
     "execution_count": 56,
     "metadata": {},
     "output_type": "execute_result"
    }
   ],
   "source": [
    "a=np.array([1,2,3])\n",
    "b=a.copy()  # use .copy() since b=a changes a if changes are made in b\n",
    "b[0]=100\n",
    "b"
   ]
  },
  {
   "cell_type": "code",
   "execution_count": 63,
   "id": "9943a0dc",
   "metadata": {},
   "outputs": [
    {
     "name": "stdout",
     "output_type": "stream",
     "text": [
      "[3 4 5]\n",
      "[-1  0  1]\n",
      "[0.5 1.  1.5]\n",
      "[2 4 6]\n",
      "[100   4   9]\n"
     ]
    }
   ],
   "source": [
    "print(a+2)\n",
    "print(a-2)\n",
    "print(a/2)\n",
    "print(a*2)\n",
    "np.sin(a)\n",
    "print(a*b)\n"
   ]
  },
  {
   "cell_type": "code",
   "execution_count": 75,
   "id": "3d56ac99",
   "metadata": {},
   "outputs": [
    {
     "data": {
      "text/plain": [
       "np.float64(0.0)"
      ]
     },
     "execution_count": 75,
     "metadata": {},
     "output_type": "execute_result"
    }
   ],
   "source": [
    "a=np.ones((3,3))\n",
    "b=np.full((3,3),2)\n",
    "np.matmul(a,b)\n",
    "np.linalg.det(b)\n"
   ]
  },
  {
   "cell_type": "code",
   "execution_count": 80,
   "id": "3a182e56",
   "metadata": {},
   "outputs": [
    {
     "data": {
      "text/plain": [
       "np.float64(1.0)"
      ]
     },
     "execution_count": 80,
     "metadata": {},
     "output_type": "execute_result"
    }
   ],
   "source": [
    "np.sum(a)\n",
    "np.min(a)\n",
    "np.max(a)\n",
    "np.mean(a)"
   ]
  },
  {
   "cell_type": "code",
   "execution_count": 84,
   "id": "ae268808",
   "metadata": {},
   "outputs": [
    {
     "data": {
      "text/plain": [
       "array([[1., 1., 1., 1., 1., 1., 1., 1., 1.]])"
      ]
     },
     "execution_count": 84,
     "metadata": {},
     "output_type": "execute_result"
    }
   ],
   "source": [
    "a.reshape((1,9))"
   ]
  },
  {
   "cell_type": "code",
   "execution_count": 87,
   "id": "4f6e2d25",
   "metadata": {},
   "outputs": [
    {
     "data": {
      "text/plain": [
       "array([[1., 1., 1., 2., 2., 2.],\n",
       "       [1., 1., 1., 2., 2., 2.],\n",
       "       [1., 1., 1., 2., 2., 2.]])"
      ]
     },
     "execution_count": 87,
     "metadata": {},
     "output_type": "execute_result"
    }
   ],
   "source": [
    "np.vstack((a,b))\n",
    "np.hstack((a,b))"
   ]
  },
  {
   "cell_type": "code",
   "execution_count": 92,
   "id": "1ca193f4",
   "metadata": {},
   "outputs": [],
   "source": [
    "a=np.genfromtxt('data.txt',delimiter=',')"
   ]
  },
  {
   "cell_type": "code",
   "execution_count": 94,
   "id": "908618a4",
   "metadata": {},
   "outputs": [
    {
     "data": {
      "text/plain": [
       "array([9., 9., 9., 9., 9., 9., 8., 9., 8., 9., 9., 8., 9., 8., 9., 9., 8.,\n",
       "       8., 9., 9.])"
      ]
     },
     "execution_count": 94,
     "metadata": {},
     "output_type": "execute_result"
    }
   ],
   "source": [
    "a[a>7]"
   ]
  }
 ],
 "metadata": {
  "kernelspec": {
   "display_name": ".venv",
   "language": "python",
   "name": "python3"
  },
  "language_info": {
   "codemirror_mode": {
    "name": "ipython",
    "version": 3
   },
   "file_extension": ".py",
   "mimetype": "text/x-python",
   "name": "python",
   "nbconvert_exporter": "python",
   "pygments_lexer": "ipython3",
   "version": "3.13.3"
  }
 },
 "nbformat": 4,
 "nbformat_minor": 5
}
