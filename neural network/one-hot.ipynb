{
 "cells": [
  {
   "cell_type": "code",
   "execution_count": 1,
   "id": "640d5f87",
   "metadata": {},
   "outputs": [],
   "source": [
    "from sklearn.preprocessing import OneHotEncoder,LabelEncoder\n",
    "from sklearn.pipeline import Pipeline\n",
    "import pandas as pd"
   ]
  },
  {
   "cell_type": "code",
   "execution_count": 2,
   "id": "d42ea12a",
   "metadata": {},
   "outputs": [],
   "source": [
    "data=pd.read_csv('beer-servings.csv')"
   ]
  },
  {
   "cell_type": "code",
   "execution_count": 3,
   "id": "855674d0",
   "metadata": {},
   "outputs": [],
   "source": [
    "data1=data.select_dtypes(include='object')"
   ]
  },
  {
   "cell_type": "code",
   "execution_count": 11,
   "id": "dce7d232",
   "metadata": {},
   "outputs": [
    {
     "data": {
      "text/plain": [
       "country      0\n",
       "continent    0\n",
       "dtype: int64"
      ]
     },
     "execution_count": 11,
     "metadata": {},
     "output_type": "execute_result"
    }
   ],
   "source": [
    "data1.isna().sum()"
   ]
  },
  {
   "cell_type": "code",
   "execution_count": 23,
   "id": "f7b73e25",
   "metadata": {},
   "outputs": [
    {
     "name": "stderr",
     "output_type": "stream",
     "text": [
      "f:\\aiml2\\.venv\\Lib\\site-packages\\sklearn\\preprocessing\\_label.py:110: DataConversionWarning: A column-vector y was passed when a 1d array was expected. Please change the shape of y to (n_samples, ), for example using ravel().\n",
      "  y = column_or_1d(y, warn=True)\n"
     ]
    },
    {
     "ename": "AttributeError",
     "evalue": "'numpy.ndarray' object has no attribute 'toarray'",
     "output_type": "error",
     "traceback": [
      "\u001b[31m---------------------------------------------------------------------------\u001b[39m",
      "\u001b[31mAttributeError\u001b[39m                            Traceback (most recent call last)",
      "\u001b[36mCell\u001b[39m\u001b[36m \u001b[39m\u001b[32mIn[23]\u001b[39m\u001b[32m, line 4\u001b[39m\n\u001b[32m      1\u001b[39m one=LabelEncoder()\n\u001b[32m      2\u001b[39m enc=one.fit_transform(data1[[\u001b[33m'\u001b[39m\u001b[33mcontinent\u001b[39m\u001b[33m'\u001b[39m]])\n\u001b[32m      3\u001b[39m enc_df = pd.DataFrame(\n\u001b[32m----> \u001b[39m\u001b[32m4\u001b[39m     \u001b[43menc\u001b[49m\u001b[43m.\u001b[49m\u001b[43mtoarray\u001b[49m(),\n\u001b[32m      5\u001b[39m     columns=one.get_feature_names_out([\u001b[33m'\u001b[39m\u001b[33mcontinent\u001b[39m\u001b[33m'\u001b[39m])\n\u001b[32m      6\u001b[39m )\n\u001b[32m      7\u001b[39m enc_df\n",
      "\u001b[31mAttributeError\u001b[39m: 'numpy.ndarray' object has no attribute 'toarray'"
     ]
    }
   ],
   "source": [
    "one=LabelEncoder()\n",
    "enc=one.fit_transform(data1[['continent']])\n",
    "enc_df = pd.DataFrame(\n",
    "    enc.toarray(),\n",
    "    columns=one.get_feature_names_out(['continent'])\n",
    ")\n",
    "enc_df\n"
   ]
  }
 ],
 "metadata": {
  "kernelspec": {
   "display_name": ".venv (3.13.3)",
   "language": "python",
   "name": "python3"
  },
  "language_info": {
   "codemirror_mode": {
    "name": "ipython",
    "version": 3
   },
   "file_extension": ".py",
   "mimetype": "text/x-python",
   "name": "python",
   "nbconvert_exporter": "python",
   "pygments_lexer": "ipython3",
   "version": "3.13.3"
  }
 },
 "nbformat": 4,
 "nbformat_minor": 5
}
