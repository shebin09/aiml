{
 "cells": [
  {
   "cell_type": "code",
   "execution_count": 1,
   "id": "4be28853",
   "metadata": {},
   "outputs": [
    {
     "name": "stdout",
     "output_type": "stream",
     "text": [
      "Trial 10 Complete [00h 00m 20s]\n",
      "val_accuracy: 0.9074999988079071\n",
      "\n",
      "Best val_accuracy So Far: 0.9175000190734863\n",
      "Total elapsed time: 00h 01m 41s\n"
     ]
    },
    {
     "name": "stderr",
     "output_type": "stream",
     "text": [
      "f:\\aiml2\\.venv\\Lib\\site-packages\\keras\\src\\saving\\saving_lib.py:797: UserWarning: Skipping variable loading for optimizer 'adam', because it has 2 variables whereas the saved optimizer has 14 variables. \n",
      "  saveable.load_own_variables(weights_store.get(inner_path))\n"
     ]
    },
    {
     "name": "stdout",
     "output_type": "stream",
     "text": [
      "Best hyperparameters:\n",
      "{'units_1': 128, 'activation_1': 'relu', 'dropout_1': 0.2, 'units_2': 112, 'activation_2': 'tanh', 'learning_rate': 0.0005394172197737114}\n",
      "Validation Accuracy: 0.9175\n"
     ]
    }
   ],
   "source": [
    "import numpy as np\n",
    "import tensorflow as tf\n",
    "from tensorflow import keras\n",
    "from tensorflow.keras import layers\n",
    "import keras_tuner as kt\n",
    "from sklearn.datasets import make_classification\n",
    "from sklearn.model_selection import train_test_split\n",
    "\n",
    "# Step 1: Create a dummy dataset (replace with your own data)\n",
    "X, y = make_classification(n_samples=2000, n_features=20, n_classes=2, random_state=42)\n",
    "X_train, X_val, y_train, y_val = train_test_split(X, y, test_size=0.2, random_state=42)\n",
    "\n",
    "# Step 2: Define the model-building function for Keras Tuner\n",
    "def build_model(hp):\n",
    "    model = keras.Sequential()\n",
    "    \n",
    "    # First hidden layer\n",
    "    model.add(layers.Dense(\n",
    "        units=hp.Int('units_1', min_value=16, max_value=128, step=16),\n",
    "        activation=hp.Choice('activation_1', values=['relu', 'tanh'])\n",
    "    ))\n",
    "    \n",
    "    # Optional dropout\n",
    "    model.add(layers.Dropout(\n",
    "        rate=hp.Choice('dropout_1', values=[0.0, 0.2, 0.5])\n",
    "    ))\n",
    "    \n",
    "    # Second hidden layer\n",
    "    model.add(layers.Dense(\n",
    "        units=hp.Int('units_2', min_value=16, max_value=128, step=16),\n",
    "        activation=hp.Choice('activation_2', values=['relu', 'tanh'])\n",
    "    ))\n",
    "    \n",
    "    # Output layer (binary classification → sigmoid)\n",
    "    model.add(layers.Dense(1, activation='sigmoid'))\n",
    "    \n",
    "    # Compile with tunable learning rate\n",
    "    model.compile(\n",
    "        optimizer=keras.optimizers.Adam(\n",
    "            hp.Float('learning_rate', min_value=1e-4, max_value=1e-2, sampling='log')\n",
    "        ),\n",
    "        loss='binary_crossentropy',\n",
    "        metrics=['accuracy']\n",
    "    )\n",
    "    return model\n",
    "\n",
    "# Step 3: Set up the tuner\n",
    "tuner = kt.RandomSearch(\n",
    "    build_model,\n",
    "    objective='val_accuracy',\n",
    "    max_trials=10,           # number of different models to try\n",
    "    executions_per_trial=2,  # train each model multiple times for stability\n",
    "    directory='tuner_dir',\n",
    "    project_name='nn_tuning'\n",
    ")\n",
    "\n",
    "# Step 4: Run the search\n",
    "tuner.search(X_train, y_train,\n",
    "             epochs=30,\n",
    "             validation_data=(X_val, y_val),\n",
    "             callbacks=[keras.callbacks.EarlyStopping(monitor='val_loss', patience=3)])\n",
    "\n",
    "# Step 5: Get the best model\n",
    "best_model = tuner.get_best_models(num_models=1)[0]\n",
    "best_hyperparams = tuner.get_best_hyperparameters(num_trials=1)[0]\n",
    "\n",
    "print(\"Best hyperparameters:\")\n",
    "print(best_hyperparams.values)\n",
    "\n",
    "# Evaluate on validation data\n",
    "val_loss, val_acc = best_model.evaluate(X_val, y_val, verbose=0)\n",
    "print(f\"Validation Accuracy: {val_acc:.4f}\")\n"
   ]
  }
 ],
 "metadata": {
  "kernelspec": {
   "display_name": ".venv (3.13.3)",
   "language": "python",
   "name": "python3"
  },
  "language_info": {
   "codemirror_mode": {
    "name": "ipython",
    "version": 3
   },
   "file_extension": ".py",
   "mimetype": "text/x-python",
   "name": "python",
   "nbconvert_exporter": "python",
   "pygments_lexer": "ipython3",
   "version": "3.13.3"
  }
 },
 "nbformat": 4,
 "nbformat_minor": 5
}
