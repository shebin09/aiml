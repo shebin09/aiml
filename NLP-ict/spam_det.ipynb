{
 "cells": [
  {
   "cell_type": "code",
   "execution_count": 65,
   "id": "7101d923",
   "metadata": {},
   "outputs": [],
   "source": [
    "import pandas as pd"
   ]
  },
  {
   "cell_type": "code",
   "execution_count": 131,
   "id": "cef0b221",
   "metadata": {},
   "outputs": [],
   "source": [
    "data=pd.read_csv('spam_and_ham_classification.csv',encoding='ISO-8859-1')"
   ]
  },
  {
   "cell_type": "code",
   "execution_count": 135,
   "id": "479f54ef",
   "metadata": {},
   "outputs": [
    {
     "data": {
      "text/html": [
       "<div>\n",
       "<style scoped>\n",
       "    .dataframe tbody tr th:only-of-type {\n",
       "        vertical-align: middle;\n",
       "    }\n",
       "\n",
       "    .dataframe tbody tr th {\n",
       "        vertical-align: top;\n",
       "    }\n",
       "\n",
       "    .dataframe thead th {\n",
       "        text-align: right;\n",
       "    }\n",
       "</style>\n",
       "<table border=\"1\" class=\"dataframe\">\n",
       "  <thead>\n",
       "    <tr style=\"text-align: right;\">\n",
       "      <th></th>\n",
       "      <th>label</th>\n",
       "      <th>text</th>\n",
       "    </tr>\n",
       "  </thead>\n",
       "  <tbody>\n",
       "    <tr>\n",
       "      <th>0</th>\n",
       "      <td>ham</td>\n",
       "      <td>into the kingdom of god and those that are ent...</td>\n",
       "    </tr>\n",
       "    <tr>\n",
       "      <th>1</th>\n",
       "      <td>spam</td>\n",
       "      <td>there was flow at hpl meter 1505 on april firs...</td>\n",
       "    </tr>\n",
       "    <tr>\n",
       "      <th>2</th>\n",
       "      <td>ham</td>\n",
       "      <td>take a look at this one campaign for bvyhprice...</td>\n",
       "    </tr>\n",
       "    <tr>\n",
       "      <th>3</th>\n",
       "      <td>spam</td>\n",
       "      <td>somu wrote actually thats what i was looking f...</td>\n",
       "    </tr>\n",
       "    <tr>\n",
       "      <th>4</th>\n",
       "      <td>spam</td>\n",
       "      <td>fathi boudra wrote i fixed the issue in the sv...</td>\n",
       "    </tr>\n",
       "    <tr>\n",
       "      <th>...</th>\n",
       "      <td>...</td>\n",
       "      <td>...</td>\n",
       "    </tr>\n",
       "    <tr>\n",
       "      <th>9984</th>\n",
       "      <td>ham</td>\n",
       "      <td>this would be a great tragedy for all concerne...</td>\n",
       "    </tr>\n",
       "    <tr>\n",
       "      <th>9985</th>\n",
       "      <td>ham</td>\n",
       "      <td>hello , welcome to medzonline filamentous shop...</td>\n",
       "    </tr>\n",
       "    <tr>\n",
       "      <th>9986</th>\n",
       "      <td>ham</td>\n",
       "      <td>this is amazing stuff add some inches fast saf...</td>\n",
       "    </tr>\n",
       "    <tr>\n",
       "      <th>9987</th>\n",
       "      <td>spam</td>\n",
       "      <td>author jra date escapenumber escapenumber esca...</td>\n",
       "    </tr>\n",
       "    <tr>\n",
       "      <th>9988</th>\n",
       "      <td>ham</td>\n",
       "      <td>anatrim escapenumber the newest and most attra...</td>\n",
       "    </tr>\n",
       "  </tbody>\n",
       "</table>\n",
       "<p>9989 rows × 2 columns</p>\n",
       "</div>"
      ],
      "text/plain": [
       "     label                                               text\n",
       "0      ham  into the kingdom of god and those that are ent...\n",
       "1     spam  there was flow at hpl meter 1505 on april firs...\n",
       "2      ham  take a look at this one campaign for bvyhprice...\n",
       "3     spam  somu wrote actually thats what i was looking f...\n",
       "4     spam  fathi boudra wrote i fixed the issue in the sv...\n",
       "...    ...                                                ...\n",
       "9984   ham  this would be a great tragedy for all concerne...\n",
       "9985   ham  hello , welcome to medzonline filamentous shop...\n",
       "9986   ham  this is amazing stuff add some inches fast saf...\n",
       "9987  spam  author jra date escapenumber escapenumber esca...\n",
       "9988   ham  anatrim escapenumber the newest and most attra...\n",
       "\n",
       "[9989 rows x 2 columns]"
      ]
     },
     "execution_count": 135,
     "metadata": {},
     "output_type": "execute_result"
    }
   ],
   "source": [
    "data"
   ]
  },
  {
   "cell_type": "code",
   "execution_count": 136,
   "id": "e351fcf1",
   "metadata": {},
   "outputs": [],
   "source": [
    "import nltk\n",
    "import string\n",
    "from nltk.stem import PorterStemmer\n",
    "stemmer=PorterStemmer()\n",
    "stopwords=nltk.corpus.stopwords.words('english')\n"
   ]
  },
  {
   "cell_type": "code",
   "execution_count": 98,
   "id": "f08765e5",
   "metadata": {},
   "outputs": [],
   "source": [
    "def cleaning(text):\n",
    "    clean=''.join([i for i in text if i not in string.punctuation])\n",
    "    clean=clean.lower()\n",
    "    clean=nltk.word_tokenize(clean)\n",
    "    clean = [i for i in clean if i not in stopwords]\n",
    "    clean=[stemmer.stem(word) for word in clean]\n",
    "    clean=' '.join(word for word in clean)\n",
    "    return clean\n"
   ]
  },
  {
   "cell_type": "code",
   "execution_count": 99,
   "id": "0f10ee74",
   "metadata": {},
   "outputs": [],
   "source": [
    "data['cleanmsg']=data['v2'].apply(lambda x: cleaning(x))"
   ]
  },
  {
   "cell_type": "code",
   "execution_count": 100,
   "id": "8715c44f",
   "metadata": {},
   "outputs": [
    {
     "data": {
      "text/plain": [
       "0       go jurong point crazi avail bugi n great world...\n",
       "1                                   ok lar joke wif u oni\n",
       "2       free entri 2 wkli comp win fa cup final tkt 21...\n",
       "3                     u dun say earli hor u c alreadi say\n",
       "4               nah dont think goe usf live around though\n",
       "                              ...                        \n",
       "5567    2nd time tri 2 contact u u å£750 pound prize 2...\n",
       "5568                              ì b go esplanad fr home\n",
       "5569                              piti mood soani suggest\n",
       "5570    guy bitch act like id interest buy someth els ...\n",
       "5571                                       rofl true name\n",
       "Name: cleanmsg, Length: 5572, dtype: object"
      ]
     },
     "execution_count": 100,
     "metadata": {},
     "output_type": "execute_result"
    }
   ],
   "source": [
    "data['cleanmsg']"
   ]
  },
  {
   "cell_type": "code",
   "execution_count": 29,
   "id": "005d39f8",
   "metadata": {},
   "outputs": [
    {
     "data": {
      "text/plain": [
       "0       go jurong point crazi avail bugi n great world...\n",
       "1                                   ok lar joke wif u oni\n",
       "2       free entri 2 wkli comp win fa cup final tkt 21...\n",
       "3                     u dun say earli hor u c alreadi say\n",
       "4               nah dont think goe usf live around though\n",
       "                              ...                        \n",
       "5567    2nd time tri 2 contact u u å£750 pound prize 2...\n",
       "5568                              ì b go esplanad fr home\n",
       "5569                              piti mood soani suggest\n",
       "5570    guy bitch act like id interest buy someth els ...\n",
       "5571                                       rofl true name\n",
       "Name: cleanmsg, Length: 5572, dtype: object"
      ]
     },
     "execution_count": 29,
     "metadata": {},
     "output_type": "execute_result"
    }
   ],
   "source": [
    "data['cleanmsg']"
   ]
  },
  {
   "cell_type": "code",
   "execution_count": 101,
   "id": "cc8791b3",
   "metadata": {},
   "outputs": [],
   "source": [
    "from tensorflow.keras.preprocessing.text import one_hot\n",
    "from tensorflow.keras.preprocessing.sequence import pad_sequences\n",
    "from tensorflow.keras.layers import Dense,Embedding,Input,LSTM\n",
    "from tensorflow.keras.models import Sequential"
   ]
  },
  {
   "cell_type": "code",
   "execution_count": null,
   "id": "d74ac67e",
   "metadata": {},
   "outputs": [],
   "source": [
    "vocab_size=20000\n",
    "sent_length=200\n",
    "dim=40\n",
    "\n",
    "data['embed']=data['cleanmsg'].apply(lambda x: one_hot(x,vocab_size))"
   ]
  },
  {
   "cell_type": "code",
   "execution_count": 77,
   "id": "021fc356",
   "metadata": {},
   "outputs": [
    {
     "data": {
      "text/plain": [
       "[1915,\n",
       " 8999,\n",
       " 1996,\n",
       " 9034,\n",
       " 5646,\n",
       " 9534,\n",
       " 3325,\n",
       " 9178,\n",
       " 3429,\n",
       " 4202,\n",
       " 6797,\n",
       " 5964,\n",
       " 648,\n",
       " 9414,\n",
       " 8697,\n",
       " 8837]"
      ]
     },
     "execution_count": 77,
     "metadata": {},
     "output_type": "execute_result"
    }
   ],
   "source": [
    "data['embed'][0]\n"
   ]
  },
  {
   "cell_type": "code",
   "execution_count": 103,
   "id": "4431596f",
   "metadata": {},
   "outputs": [],
   "source": [
    "padded=pad_sequences(data['embed'],padding='pre',maxlen=sent_length)"
   ]
  },
  {
   "cell_type": "code",
   "execution_count": 106,
   "id": "3bc12df7",
   "metadata": {},
   "outputs": [
    {
     "data": {
      "text/plain": [
       "array([[8999, 1996, 9034, ..., 9414, 8697, 8837],\n",
       "       [   0,    0,    0, ..., 7156, 2178, 3072],\n",
       "       [6236, 4302, 8728, ..., 6595, 9126, 7664],\n",
       "       ...,\n",
       "       [   0,    0,    0, ..., 9035, 8488, 2461],\n",
       "       [   0, 4830, 8286, ..., 9505, 1962, 2468],\n",
       "       [   0,    0,    0, ..., 3525, 4287, 5536]],\n",
       "      shape=(5572, 15), dtype=int32)"
      ]
     },
     "execution_count": 106,
     "metadata": {},
     "output_type": "execute_result"
    }
   ],
   "source": [
    "X=np.array(padded)\n",
    "X\n"
   ]
  },
  {
   "cell_type": "code",
   "execution_count": 108,
   "id": "25ca5e2c",
   "metadata": {},
   "outputs": [
    {
     "data": {
      "text/plain": [
       "dtype('int64')"
      ]
     },
     "execution_count": 108,
     "metadata": {},
     "output_type": "execute_result"
    }
   ],
   "source": [
    "import numpy as np\n",
    "y=data['label']=data['v1'].map({'ham':0,'spam':1})\n",
    "y=np.array(y)\n",
    "y=data['label'].values\n",
    "y.dtype"
   ]
  },
  {
   "cell_type": "code",
   "execution_count": 109,
   "id": "3c12770a",
   "metadata": {},
   "outputs": [
    {
     "data": {
      "text/plain": [
       "dtype('int64')"
      ]
     },
     "execution_count": 109,
     "metadata": {},
     "output_type": "execute_result"
    }
   ],
   "source": [
    "X.dtype\n",
    "y.dtype"
   ]
  },
  {
   "cell_type": "code",
   "execution_count": 138,
   "id": "87f70ed2",
   "metadata": {},
   "outputs": [],
   "source": [
    "from sklearn.model_selection import train_test_split\n",
    "X_train,X_test,y_train,y_test=train_test_split(X,y,test_size=0.25)"
   ]
  },
  {
   "cell_type": "code",
   "execution_count": 140,
   "id": "01160407",
   "metadata": {},
   "outputs": [],
   "source": [
    "from tensorflow.keras.callbacks import ReduceLROnPlateau\n",
    "\n",
    "plat=ReduceLROnPlateau(\n",
    "    factor=0.5,\n",
    "    patience=5,\n",
    "    monitor='val_loss',\n",
    "    min_lr=1e-6\n",
    "\n",
    ")"
   ]
  },
  {
   "cell_type": "code",
   "execution_count": null,
   "id": "81a5bdff",
   "metadata": {},
   "outputs": [],
   "source": [
    "model=Sequential()\n",
    "model.add(Input(shape=(15,)))\n",
    "model.add(Embedding(input_dim=vocab_size,output_dim=dim,mask_zero=True))\n",
    "model.add(LSTM(30,recurrent_dropout=0.3))\n",
    "model.add(Dense(1,activation='sigmoid'))\n",
    "model.compile(optimizer='adam',loss='binary_crossentropy',metrics=['accuracy','precision'])"
   ]
  },
  {
   "cell_type": "code",
   "execution_count": 142,
   "id": "f09d51a7",
   "metadata": {},
   "outputs": [
    {
     "name": "stdout",
     "output_type": "stream",
     "text": [
      "Epoch 1/50\n",
      "\u001b[1m66/66\u001b[0m \u001b[32m━━━━━━━━━━━━━━━━━━━━\u001b[0m\u001b[37m\u001b[0m \u001b[1m5s\u001b[0m 23ms/step - accuracy: 0.8839 - loss: 0.4480 - precision: 0.7569 - val_accuracy: 0.9605 - val_loss: 0.1728 - val_precision: 0.9854 - learning_rate: 0.0010\n",
      "Epoch 2/50\n",
      "\u001b[1m66/66\u001b[0m \u001b[32m━━━━━━━━━━━━━━━━━━━━\u001b[0m\u001b[37m\u001b[0m \u001b[1m1s\u001b[0m 10ms/step - accuracy: 0.9804 - loss: 0.1058 - precision: 0.9631 - val_accuracy: 0.9828 - val_loss: 0.0971 - val_precision: 0.9607 - learning_rate: 0.0010\n",
      "Epoch 3/50\n",
      "\u001b[1m66/66\u001b[0m \u001b[32m━━━━━━━━━━━━━━━━━━━━\u001b[0m\u001b[37m\u001b[0m \u001b[1m1s\u001b[0m 10ms/step - accuracy: 0.9902 - loss: 0.0515 - precision: 0.9726 - val_accuracy: 0.9835 - val_loss: 0.0830 - val_precision: 0.9609 - learning_rate: 0.0010\n",
      "Epoch 4/50\n",
      "\u001b[1m66/66\u001b[0m \u001b[32m━━━━━━━━━━━━━━━━━━━━\u001b[0m\u001b[37m\u001b[0m \u001b[1m1s\u001b[0m 10ms/step - accuracy: 0.9947 - loss: 0.0296 - precision: 0.9909 - val_accuracy: 0.9821 - val_loss: 0.0824 - val_precision: 0.9605 - learning_rate: 0.0010\n",
      "Epoch 5/50\n",
      "\u001b[1m66/66\u001b[0m \u001b[32m━━━━━━━━━━━━━━━━━━━━\u001b[0m\u001b[37m\u001b[0m \u001b[1m1s\u001b[0m 10ms/step - accuracy: 0.9974 - loss: 0.0183 - precision: 0.9928 - val_accuracy: 0.9813 - val_loss: 0.0879 - val_precision: 0.9602 - learning_rate: 0.0010\n",
      "Epoch 6/50\n",
      "\u001b[1m66/66\u001b[0m \u001b[32m━━━━━━━━━━━━━━━━━━━━\u001b[0m\u001b[37m\u001b[0m \u001b[1m1s\u001b[0m 11ms/step - accuracy: 0.9993 - loss: 0.0106 - precision: 1.0000 - val_accuracy: 0.9785 - val_loss: 0.0883 - val_precision: 0.9293 - learning_rate: 0.0010\n",
      "Epoch 7/50\n",
      "\u001b[1m66/66\u001b[0m \u001b[32m━━━━━━━━━━━━━━━━━━━━\u001b[0m\u001b[37m\u001b[0m \u001b[1m1s\u001b[0m 13ms/step - accuracy: 0.9995 - loss: 0.0078 - precision: 1.0000 - val_accuracy: 0.9806 - val_loss: 0.0930 - val_precision: 0.9497 - learning_rate: 0.0010\n",
      "Epoch 8/50\n",
      "\u001b[1m66/66\u001b[0m \u001b[32m━━━━━━━━━━━━━━━━━━━━\u001b[0m\u001b[37m\u001b[0m \u001b[1m1s\u001b[0m 10ms/step - accuracy: 0.9993 - loss: 0.0071 - precision: 0.9982 - val_accuracy: 0.9806 - val_loss: 0.0995 - val_precision: 0.9548 - learning_rate: 0.0010\n",
      "Epoch 9/50\n",
      "\u001b[1m66/66\u001b[0m \u001b[32m━━━━━━━━━━━━━━━━━━━━\u001b[0m\u001b[37m\u001b[0m \u001b[1m1s\u001b[0m 10ms/step - accuracy: 0.9988 - loss: 0.0063 - precision: 0.9982 - val_accuracy: 0.9799 - val_loss: 0.1099 - val_precision: 0.9545 - learning_rate: 0.0010\n",
      "Epoch 10/50\n",
      "\u001b[1m66/66\u001b[0m \u001b[32m━━━━━━━━━━━━━━━━━━━━\u001b[0m\u001b[37m\u001b[0m \u001b[1m1s\u001b[0m 10ms/step - accuracy: 0.9998 - loss: 0.0048 - precision: 1.0000 - val_accuracy: 0.9821 - val_loss: 0.0999 - val_precision: 0.9503 - learning_rate: 5.0000e-04\n",
      "Epoch 11/50\n",
      "\u001b[1m66/66\u001b[0m \u001b[32m━━━━━━━━━━━━━━━━━━━━\u001b[0m\u001b[37m\u001b[0m \u001b[1m1s\u001b[0m 10ms/step - accuracy: 0.9995 - loss: 0.0046 - precision: 1.0000 - val_accuracy: 0.9821 - val_loss: 0.0999 - val_precision: 0.9503 - learning_rate: 5.0000e-04\n",
      "Epoch 12/50\n",
      "\u001b[1m66/66\u001b[0m \u001b[32m━━━━━━━━━━━━━━━━━━━━\u001b[0m\u001b[37m\u001b[0m \u001b[1m1s\u001b[0m 9ms/step - accuracy: 0.9998 - loss: 0.0037 - precision: 1.0000 - val_accuracy: 0.9792 - val_loss: 0.1090 - val_precision: 0.9492 - learning_rate: 5.0000e-04\n",
      "Epoch 13/50\n",
      "\u001b[1m66/66\u001b[0m \u001b[32m━━━━━━━━━━━━━━━━━━━━\u001b[0m\u001b[37m\u001b[0m \u001b[1m1s\u001b[0m 10ms/step - accuracy: 0.9995 - loss: 0.0040 - precision: 1.0000 - val_accuracy: 0.9806 - val_loss: 0.1060 - val_precision: 0.9497 - learning_rate: 5.0000e-04\n",
      "Epoch 14/50\n",
      "\u001b[1m66/66\u001b[0m \u001b[32m━━━━━━━━━━━━━━━━━━━━\u001b[0m\u001b[37m\u001b[0m \u001b[1m1s\u001b[0m 10ms/step - accuracy: 0.9998 - loss: 0.0034 - precision: 1.0000 - val_accuracy: 0.9799 - val_loss: 0.1070 - val_precision: 0.9444 - learning_rate: 5.0000e-04\n",
      "Epoch 15/50\n",
      "\u001b[1m66/66\u001b[0m \u001b[32m━━━━━━━━━━━━━━━━━━━━\u001b[0m\u001b[37m\u001b[0m \u001b[1m1s\u001b[0m 11ms/step - accuracy: 0.9998 - loss: 0.0031 - precision: 1.0000 - val_accuracy: 0.9799 - val_loss: 0.1074 - val_precision: 0.9444 - learning_rate: 2.5000e-04\n",
      "Epoch 16/50\n",
      "\u001b[1m66/66\u001b[0m \u001b[32m━━━━━━━━━━━━━━━━━━━━\u001b[0m\u001b[37m\u001b[0m \u001b[1m1s\u001b[0m 10ms/step - accuracy: 0.9998 - loss: 0.0029 - precision: 1.0000 - val_accuracy: 0.9813 - val_loss: 0.1070 - val_precision: 0.9500 - learning_rate: 2.5000e-04\n",
      "Epoch 17/50\n",
      "\u001b[1m66/66\u001b[0m \u001b[32m━━━━━━━━━━━━━━━━━━━━\u001b[0m\u001b[37m\u001b[0m \u001b[1m1s\u001b[0m 10ms/step - accuracy: 0.9998 - loss: 0.0027 - precision: 1.0000 - val_accuracy: 0.9799 - val_loss: 0.1084 - val_precision: 0.9444 - learning_rate: 2.5000e-04\n",
      "Epoch 18/50\n",
      "\u001b[1m66/66\u001b[0m \u001b[32m━━━━━━━━━━━━━━━━━━━━\u001b[0m\u001b[37m\u001b[0m \u001b[1m1s\u001b[0m 10ms/step - accuracy: 0.9998 - loss: 0.0026 - precision: 1.0000 - val_accuracy: 0.9806 - val_loss: 0.1086 - val_precision: 0.9448 - learning_rate: 2.5000e-04\n",
      "Epoch 19/50\n",
      "\u001b[1m66/66\u001b[0m \u001b[32m━━━━━━━━━━━━━━━━━━━━\u001b[0m\u001b[37m\u001b[0m \u001b[1m1s\u001b[0m 10ms/step - accuracy: 0.9998 - loss: 0.0026 - precision: 1.0000 - val_accuracy: 0.9799 - val_loss: 0.1099 - val_precision: 0.9444 - learning_rate: 2.5000e-04\n",
      "Epoch 20/50\n",
      "\u001b[1m66/66\u001b[0m \u001b[32m━━━━━━━━━━━━━━━━━━━━\u001b[0m\u001b[37m\u001b[0m \u001b[1m1s\u001b[0m 10ms/step - accuracy: 1.0000 - loss: 0.0022 - precision: 1.0000 - val_accuracy: 0.9799 - val_loss: 0.1103 - val_precision: 0.9444 - learning_rate: 1.2500e-04\n",
      "Epoch 21/50\n",
      "\u001b[1m66/66\u001b[0m \u001b[32m━━━━━━━━━━━━━━━━━━━━\u001b[0m\u001b[37m\u001b[0m \u001b[1m1s\u001b[0m 10ms/step - accuracy: 1.0000 - loss: 0.0022 - precision: 1.0000 - val_accuracy: 0.9799 - val_loss: 0.1109 - val_precision: 0.9444 - learning_rate: 1.2500e-04\n",
      "Epoch 22/50\n",
      "\u001b[1m66/66\u001b[0m \u001b[32m━━━━━━━━━━━━━━━━━━━━\u001b[0m\u001b[37m\u001b[0m \u001b[1m1s\u001b[0m 10ms/step - accuracy: 0.9998 - loss: 0.0024 - precision: 1.0000 - val_accuracy: 0.9813 - val_loss: 0.1100 - val_precision: 0.9500 - learning_rate: 1.2500e-04\n",
      "Epoch 23/50\n",
      "\u001b[1m66/66\u001b[0m \u001b[32m━━━━━━━━━━━━━━━━━━━━\u001b[0m\u001b[37m\u001b[0m \u001b[1m1s\u001b[0m 11ms/step - accuracy: 0.9998 - loss: 0.0022 - precision: 1.0000 - val_accuracy: 0.9813 - val_loss: 0.1107 - val_precision: 0.9500 - learning_rate: 1.2500e-04\n",
      "Epoch 24/50\n",
      "\u001b[1m66/66\u001b[0m \u001b[32m━━━━━━━━━━━━━━━━━━━━\u001b[0m\u001b[37m\u001b[0m \u001b[1m1s\u001b[0m 11ms/step - accuracy: 0.9998 - loss: 0.0021 - precision: 1.0000 - val_accuracy: 0.9821 - val_loss: 0.1115 - val_precision: 0.9553 - learning_rate: 1.2500e-04\n",
      "Epoch 25/50\n",
      "\u001b[1m66/66\u001b[0m \u001b[32m━━━━━━━━━━━━━━━━━━━━\u001b[0m\u001b[37m\u001b[0m \u001b[1m1s\u001b[0m 10ms/step - accuracy: 0.9998 - loss: 0.0021 - precision: 1.0000 - val_accuracy: 0.9813 - val_loss: 0.1123 - val_precision: 0.9551 - learning_rate: 6.2500e-05\n",
      "Epoch 26/50\n",
      "\u001b[1m66/66\u001b[0m \u001b[32m━━━━━━━━━━━━━━━━━━━━\u001b[0m\u001b[37m\u001b[0m \u001b[1m1s\u001b[0m 10ms/step - accuracy: 1.0000 - loss: 0.0021 - precision: 1.0000 - val_accuracy: 0.9813 - val_loss: 0.1127 - val_precision: 0.9551 - learning_rate: 6.2500e-05\n",
      "Epoch 27/50\n",
      "\u001b[1m66/66\u001b[0m \u001b[32m━━━━━━━━━━━━━━━━━━━━\u001b[0m\u001b[37m\u001b[0m \u001b[1m1s\u001b[0m 10ms/step - accuracy: 0.9998 - loss: 0.0021 - precision: 1.0000 - val_accuracy: 0.9813 - val_loss: 0.1134 - val_precision: 0.9551 - learning_rate: 6.2500e-05\n",
      "Epoch 28/50\n",
      "\u001b[1m66/66\u001b[0m \u001b[32m━━━━━━━━━━━━━━━━━━━━\u001b[0m\u001b[37m\u001b[0m \u001b[1m1s\u001b[0m 10ms/step - accuracy: 1.0000 - loss: 0.0019 - precision: 1.0000 - val_accuracy: 0.9813 - val_loss: 0.1138 - val_precision: 0.9551 - learning_rate: 6.2500e-05\n",
      "Epoch 29/50\n",
      "\u001b[1m66/66\u001b[0m \u001b[32m━━━━━━━━━━━━━━━━━━━━\u001b[0m\u001b[37m\u001b[0m \u001b[1m1s\u001b[0m 13ms/step - accuracy: 0.9998 - loss: 0.0020 - precision: 1.0000 - val_accuracy: 0.9813 - val_loss: 0.1141 - val_precision: 0.9551 - learning_rate: 6.2500e-05\n",
      "Epoch 30/50\n",
      "\u001b[1m66/66\u001b[0m \u001b[32m━━━━━━━━━━━━━━━━━━━━\u001b[0m\u001b[37m\u001b[0m \u001b[1m1s\u001b[0m 14ms/step - accuracy: 1.0000 - loss: 0.0019 - precision: 1.0000 - val_accuracy: 0.9813 - val_loss: 0.1142 - val_precision: 0.9551 - learning_rate: 3.1250e-05\n",
      "Epoch 31/50\n",
      "\u001b[1m66/66\u001b[0m \u001b[32m━━━━━━━━━━━━━━━━━━━━\u001b[0m\u001b[37m\u001b[0m \u001b[1m1s\u001b[0m 13ms/step - accuracy: 0.9998 - loss: 0.0021 - precision: 1.0000 - val_accuracy: 0.9813 - val_loss: 0.1139 - val_precision: 0.9551 - learning_rate: 3.1250e-05\n",
      "Epoch 32/50\n",
      "\u001b[1m66/66\u001b[0m \u001b[32m━━━━━━━━━━━━━━━━━━━━\u001b[0m\u001b[37m\u001b[0m \u001b[1m1s\u001b[0m 12ms/step - accuracy: 0.9998 - loss: 0.0021 - precision: 1.0000 - val_accuracy: 0.9813 - val_loss: 0.1138 - val_precision: 0.9551 - learning_rate: 3.1250e-05\n",
      "Epoch 33/50\n",
      "\u001b[1m66/66\u001b[0m \u001b[32m━━━━━━━━━━━━━━━━━━━━\u001b[0m\u001b[37m\u001b[0m \u001b[1m1s\u001b[0m 13ms/step - accuracy: 1.0000 - loss: 0.0020 - precision: 1.0000 - val_accuracy: 0.9813 - val_loss: 0.1141 - val_precision: 0.9551 - learning_rate: 3.1250e-05\n",
      "Epoch 34/50\n",
      "\u001b[1m66/66\u001b[0m \u001b[32m━━━━━━━━━━━━━━━━━━━━\u001b[0m\u001b[37m\u001b[0m \u001b[1m1s\u001b[0m 13ms/step - accuracy: 1.0000 - loss: 0.0018 - precision: 1.0000 - val_accuracy: 0.9813 - val_loss: 0.1145 - val_precision: 0.9551 - learning_rate: 3.1250e-05\n",
      "Epoch 35/50\n",
      "\u001b[1m66/66\u001b[0m \u001b[32m━━━━━━━━━━━━━━━━━━━━\u001b[0m\u001b[37m\u001b[0m \u001b[1m1s\u001b[0m 12ms/step - accuracy: 1.0000 - loss: 0.0019 - precision: 1.0000 - val_accuracy: 0.9813 - val_loss: 0.1146 - val_precision: 0.9551 - learning_rate: 1.5625e-05\n",
      "Epoch 36/50\n",
      "\u001b[1m66/66\u001b[0m \u001b[32m━━━━━━━━━━━━━━━━━━━━\u001b[0m\u001b[37m\u001b[0m \u001b[1m1s\u001b[0m 12ms/step - accuracy: 0.9998 - loss: 0.0020 - precision: 1.0000 - val_accuracy: 0.9813 - val_loss: 0.1145 - val_precision: 0.9551 - learning_rate: 1.5625e-05\n",
      "Epoch 37/50\n",
      "\u001b[1m66/66\u001b[0m \u001b[32m━━━━━━━━━━━━━━━━━━━━\u001b[0m\u001b[37m\u001b[0m \u001b[1m1s\u001b[0m 13ms/step - accuracy: 1.0000 - loss: 0.0019 - precision: 1.0000 - val_accuracy: 0.9813 - val_loss: 0.1145 - val_precision: 0.9551 - learning_rate: 1.5625e-05\n",
      "Epoch 38/50\n",
      "\u001b[1m66/66\u001b[0m \u001b[32m━━━━━━━━━━━━━━━━━━━━\u001b[0m\u001b[37m\u001b[0m \u001b[1m1s\u001b[0m 12ms/step - accuracy: 0.9998 - loss: 0.0020 - precision: 1.0000 - val_accuracy: 0.9813 - val_loss: 0.1146 - val_precision: 0.9551 - learning_rate: 1.5625e-05\n",
      "Epoch 39/50\n",
      "\u001b[1m66/66\u001b[0m \u001b[32m━━━━━━━━━━━━━━━━━━━━\u001b[0m\u001b[37m\u001b[0m \u001b[1m1s\u001b[0m 12ms/step - accuracy: 0.9998 - loss: 0.0019 - precision: 1.0000 - val_accuracy: 0.9813 - val_loss: 0.1147 - val_precision: 0.9551 - learning_rate: 1.5625e-05\n",
      "Epoch 40/50\n",
      "\u001b[1m66/66\u001b[0m \u001b[32m━━━━━━━━━━━━━━━━━━━━\u001b[0m\u001b[37m\u001b[0m \u001b[1m1s\u001b[0m 12ms/step - accuracy: 1.0000 - loss: 0.0019 - precision: 1.0000 - val_accuracy: 0.9813 - val_loss: 0.1147 - val_precision: 0.9551 - learning_rate: 7.8125e-06\n",
      "Epoch 41/50\n",
      "\u001b[1m66/66\u001b[0m \u001b[32m━━━━━━━━━━━━━━━━━━━━\u001b[0m\u001b[37m\u001b[0m \u001b[1m1s\u001b[0m 12ms/step - accuracy: 0.9998 - loss: 0.0021 - precision: 1.0000 - val_accuracy: 0.9813 - val_loss: 0.1148 - val_precision: 0.9551 - learning_rate: 7.8125e-06\n",
      "Epoch 42/50\n",
      "\u001b[1m66/66\u001b[0m \u001b[32m━━━━━━━━━━━━━━━━━━━━\u001b[0m\u001b[37m\u001b[0m \u001b[1m1s\u001b[0m 14ms/step - accuracy: 1.0000 - loss: 0.0019 - precision: 1.0000 - val_accuracy: 0.9813 - val_loss: 0.1148 - val_precision: 0.9551 - learning_rate: 7.8125e-06\n",
      "Epoch 43/50\n",
      "\u001b[1m66/66\u001b[0m \u001b[32m━━━━━━━━━━━━━━━━━━━━\u001b[0m\u001b[37m\u001b[0m \u001b[1m1s\u001b[0m 12ms/step - accuracy: 1.0000 - loss: 0.0019 - precision: 1.0000 - val_accuracy: 0.9813 - val_loss: 0.1148 - val_precision: 0.9551 - learning_rate: 7.8125e-06\n",
      "Epoch 44/50\n",
      "\u001b[1m66/66\u001b[0m \u001b[32m━━━━━━━━━━━━━━━━━━━━\u001b[0m\u001b[37m\u001b[0m \u001b[1m1s\u001b[0m 12ms/step - accuracy: 0.9998 - loss: 0.0021 - precision: 1.0000 - val_accuracy: 0.9813 - val_loss: 0.1148 - val_precision: 0.9551 - learning_rate: 7.8125e-06\n",
      "Epoch 45/50\n",
      "\u001b[1m66/66\u001b[0m \u001b[32m━━━━━━━━━━━━━━━━━━━━\u001b[0m\u001b[37m\u001b[0m \u001b[1m1s\u001b[0m 12ms/step - accuracy: 0.9998 - loss: 0.0022 - precision: 1.0000 - val_accuracy: 0.9813 - val_loss: 0.1144 - val_precision: 0.9551 - learning_rate: 3.9063e-06\n",
      "Epoch 46/50\n",
      "\u001b[1m66/66\u001b[0m \u001b[32m━━━━━━━━━━━━━━━━━━━━\u001b[0m\u001b[37m\u001b[0m \u001b[1m1s\u001b[0m 13ms/step - accuracy: 0.9995 - loss: 0.0022 - precision: 1.0000 - val_accuracy: 0.9821 - val_loss: 0.1142 - val_precision: 0.9553 - learning_rate: 3.9063e-06\n",
      "Epoch 47/50\n",
      "\u001b[1m66/66\u001b[0m \u001b[32m━━━━━━━━━━━━━━━━━━━━\u001b[0m\u001b[37m\u001b[0m \u001b[1m1s\u001b[0m 14ms/step - accuracy: 1.0000 - loss: 0.0019 - precision: 1.0000 - val_accuracy: 0.9821 - val_loss: 0.1143 - val_precision: 0.9553 - learning_rate: 3.9063e-06\n",
      "Epoch 48/50\n",
      "\u001b[1m66/66\u001b[0m \u001b[32m━━━━━━━━━━━━━━━━━━━━\u001b[0m\u001b[37m\u001b[0m \u001b[1m1s\u001b[0m 13ms/step - accuracy: 1.0000 - loss: 0.0019 - precision: 1.0000 - val_accuracy: 0.9821 - val_loss: 0.1143 - val_precision: 0.9553 - learning_rate: 3.9063e-06\n",
      "Epoch 49/50\n",
      "\u001b[1m66/66\u001b[0m \u001b[32m━━━━━━━━━━━━━━━━━━━━\u001b[0m\u001b[37m\u001b[0m \u001b[1m1s\u001b[0m 13ms/step - accuracy: 1.0000 - loss: 0.0018 - precision: 1.0000 - val_accuracy: 0.9821 - val_loss: 0.1143 - val_precision: 0.9553 - learning_rate: 3.9063e-06\n",
      "Epoch 50/50\n",
      "\u001b[1m66/66\u001b[0m \u001b[32m━━━━━━━━━━━━━━━━━━━━\u001b[0m\u001b[37m\u001b[0m \u001b[1m1s\u001b[0m 12ms/step - accuracy: 1.0000 - loss: 0.0019 - precision: 1.0000 - val_accuracy: 0.9821 - val_loss: 0.1144 - val_precision: 0.9553 - learning_rate: 1.9531e-06\n"
     ]
    }
   ],
   "source": [
    "hist=model.fit(X_train,y_train,validation_data=(X_test,y_test),epochs=50,batch_size=64,callbacks=[plat])"
   ]
  },
  {
   "cell_type": "code",
   "execution_count": 129,
   "id": "e87f1dae",
   "metadata": {},
   "outputs": [
    {
     "data": {
      "image/png": "[encoded data removed]",
      "text/plain": [
       "<Figure size 640x480 with 1 Axes>"
      ]
     },
     "metadata": {},
     "output_type": "display_data"
    }
   ],
   "source": [
    "import matplotlib.pyplot as plt\n",
    "\n",
    "plt.plot(hist.history['loss'],label='train loss')\n",
    "plt.plot(hist.history['val_loss'],label='test loss')\n",
    "plt.legend()\n",
    "plt.show()"
   ]
  },
  {
   "cell_type": "code",
   "execution_count": null,
   "id": "b77b5b93",
   "metadata": {},
   "outputs": [],
   "source": [
    "def cleaning(text):\n",
    "    clean=''.join([i for i in text if i not in string.punctuation])\n",
    "    clean=clean.lower()\n",
    "    clean=nltk.word_tokenize(clean)\n",
    "    clean = [i for i in clean if i not in stopwords]\n",
    "    clean=[stemmer.stem(word) for word in clean]\n",
    "    clean=' '.join(word for word in clean)\n",
    "    clean=[one_hot(word,vocab_size) for word in clean]\n",
    "    clean=pad_sequences(clean,padding='pre',maxlen=200)\n",
    "    return clean"
   ]
  },
  {
   "cell_type": "code",
   "execution_count": 137,
   "id": "f0b6d96a",
   "metadata": {},
   "outputs": [
    {
     "ename": "KeyboardInterrupt",
     "evalue": "",
     "output_type": "error",
     "traceback": [
      "\u001b[31m---------------------------------------------------------------------------\u001b[39m",
      "\u001b[31mKeyboardInterrupt\u001b[39m                         Traceback (most recent call last)",
      "\u001b[36mCell\u001b[39m\u001b[36m \u001b[39m\u001b[32mIn[137]\u001b[39m\u001b[32m, line 1\u001b[39m\n\u001b[32m----> \u001b[39m\u001b[32m1\u001b[39m data=\u001b[43mdata\u001b[49m\u001b[43m[\u001b[49m\u001b[33;43m'\u001b[39;49m\u001b[33;43mtext\u001b[39;49m\u001b[33;43m'\u001b[39;49m\u001b[43m]\u001b[49m\u001b[43m.\u001b[49m\u001b[43mapply\u001b[49m\u001b[43m(\u001b[49m\u001b[38;5;28;43;01mlambda\u001b[39;49;00m\u001b[43m \u001b[49m\u001b[43mx\u001b[49m\u001b[43m:\u001b[49m\u001b[43mcleaning\u001b[49m\u001b[43m(\u001b[49m\u001b[43mx\u001b[49m\u001b[43m)\u001b[49m\u001b[43m)\u001b[49m\n",
      "\u001b[36mFile \u001b[39m\u001b[32mf:\\aiml2\\.venv\\Lib\\site-packages\\pandas\\core\\series.py:4935\u001b[39m, in \u001b[36mSeries.apply\u001b[39m\u001b[34m(self, func, convert_dtype, args, by_row, **kwargs)\u001b[39m\n\u001b[32m   4800\u001b[39m \u001b[38;5;28;01mdef\u001b[39;00m\u001b[38;5;250m \u001b[39m\u001b[34mapply\u001b[39m(\n\u001b[32m   4801\u001b[39m     \u001b[38;5;28mself\u001b[39m,\n\u001b[32m   4802\u001b[39m     func: AggFuncType,\n\u001b[32m   (...)\u001b[39m\u001b[32m   4807\u001b[39m     **kwargs,\n\u001b[32m   4808\u001b[39m ) -> DataFrame | Series:\n\u001b[32m   4809\u001b[39m \u001b[38;5;250m    \u001b[39m\u001b[33;03m\"\"\"\u001b[39;00m\n\u001b[32m   4810\u001b[39m \u001b[33;03m    Invoke function on values of Series.\u001b[39;00m\n\u001b[32m   4811\u001b[39m \n\u001b[32m   (...)\u001b[39m\u001b[32m   4926\u001b[39m \u001b[33;03m    dtype: float64\u001b[39;00m\n\u001b[32m   4927\u001b[39m \u001b[33;03m    \"\"\"\u001b[39;00m\n\u001b[32m   4928\u001b[39m     \u001b[38;5;28;01mreturn\u001b[39;00m \u001b[43mSeriesApply\u001b[49m\u001b[43m(\u001b[49m\n\u001b[32m   4929\u001b[39m \u001b[43m        \u001b[49m\u001b[38;5;28;43mself\u001b[39;49m\u001b[43m,\u001b[49m\n\u001b[32m   4930\u001b[39m \u001b[43m        \u001b[49m\u001b[43mfunc\u001b[49m\u001b[43m,\u001b[49m\n\u001b[32m   4931\u001b[39m \u001b[43m        \u001b[49m\u001b[43mconvert_dtype\u001b[49m\u001b[43m=\u001b[49m\u001b[43mconvert_dtype\u001b[49m\u001b[43m,\u001b[49m\n\u001b[32m   4932\u001b[39m \u001b[43m        \u001b[49m\u001b[43mby_row\u001b[49m\u001b[43m=\u001b[49m\u001b[43mby_row\u001b[49m\u001b[43m,\u001b[49m\n\u001b[32m   4933\u001b[39m \u001b[43m        \u001b[49m\u001b[43margs\u001b[49m\u001b[43m=\u001b[49m\u001b[43margs\u001b[49m\u001b[43m,\u001b[49m\n\u001b[32m   4934\u001b[39m \u001b[43m        \u001b[49m\u001b[43mkwargs\u001b[49m\u001b[43m=\u001b[49m\u001b[43mkwargs\u001b[49m\u001b[43m,\u001b[49m\n\u001b[32m-> \u001b[39m\u001b[32m4935\u001b[39m \u001b[43m    \u001b[49m\u001b[43m)\u001b[49m\u001b[43m.\u001b[49m\u001b[43mapply\u001b[49m\u001b[43m(\u001b[49m\u001b[43m)\u001b[49m\n",
      "\u001b[36mFile \u001b[39m\u001b[32mf:\\aiml2\\.venv\\Lib\\site-packages\\pandas\\core\\apply.py:1422\u001b[39m, in \u001b[36mSeriesApply.apply\u001b[39m\u001b[34m(self)\u001b[39m\n\u001b[32m   1419\u001b[39m     \u001b[38;5;28;01mreturn\u001b[39;00m \u001b[38;5;28mself\u001b[39m.apply_compat()\n\u001b[32m   1421\u001b[39m \u001b[38;5;66;03m# self.func is Callable\u001b[39;00m\n\u001b[32m-> \u001b[39m\u001b[32m1422\u001b[39m \u001b[38;5;28;01mreturn\u001b[39;00m \u001b[38;5;28;43mself\u001b[39;49m\u001b[43m.\u001b[49m\u001b[43mapply_standard\u001b[49m\u001b[43m(\u001b[49m\u001b[43m)\u001b[49m\n",
      "\u001b[36mFile \u001b[39m\u001b[32mf:\\aiml2\\.venv\\Lib\\site-packages\\pandas\\core\\apply.py:1502\u001b[39m, in \u001b[36mSeriesApply.apply_standard\u001b[39m\u001b[34m(self)\u001b[39m\n\u001b[32m   1496\u001b[39m \u001b[38;5;66;03m# row-wise access\u001b[39;00m\n\u001b[32m   1497\u001b[39m \u001b[38;5;66;03m# apply doesn't have a `na_action` keyword and for backward compat reasons\u001b[39;00m\n\u001b[32m   1498\u001b[39m \u001b[38;5;66;03m# we need to give `na_action=\"ignore\"` for categorical data.\u001b[39;00m\n\u001b[32m   1499\u001b[39m \u001b[38;5;66;03m# TODO: remove the `na_action=\"ignore\"` when that default has been changed in\u001b[39;00m\n\u001b[32m   1500\u001b[39m \u001b[38;5;66;03m#  Categorical (GH51645).\u001b[39;00m\n\u001b[32m   1501\u001b[39m action = \u001b[33m\"\u001b[39m\u001b[33mignore\u001b[39m\u001b[33m\"\u001b[39m \u001b[38;5;28;01mif\u001b[39;00m \u001b[38;5;28misinstance\u001b[39m(obj.dtype, CategoricalDtype) \u001b[38;5;28;01melse\u001b[39;00m \u001b[38;5;28;01mNone\u001b[39;00m\n\u001b[32m-> \u001b[39m\u001b[32m1502\u001b[39m mapped = \u001b[43mobj\u001b[49m\u001b[43m.\u001b[49m\u001b[43m_map_values\u001b[49m\u001b[43m(\u001b[49m\n\u001b[32m   1503\u001b[39m \u001b[43m    \u001b[49m\u001b[43mmapper\u001b[49m\u001b[43m=\u001b[49m\u001b[43mcurried\u001b[49m\u001b[43m,\u001b[49m\u001b[43m \u001b[49m\u001b[43mna_action\u001b[49m\u001b[43m=\u001b[49m\u001b[43maction\u001b[49m\u001b[43m,\u001b[49m\u001b[43m \u001b[49m\u001b[43mconvert\u001b[49m\u001b[43m=\u001b[49m\u001b[38;5;28;43mself\u001b[39;49m\u001b[43m.\u001b[49m\u001b[43mconvert_dtype\u001b[49m\n\u001b[32m   1504\u001b[39m \u001b[43m\u001b[49m\u001b[43m)\u001b[49m\n\u001b[32m   1506\u001b[39m \u001b[38;5;28;01mif\u001b[39;00m \u001b[38;5;28mlen\u001b[39m(mapped) \u001b[38;5;129;01mand\u001b[39;00m \u001b[38;5;28misinstance\u001b[39m(mapped[\u001b[32m0\u001b[39m], ABCSeries):\n\u001b[32m   1507\u001b[39m     \u001b[38;5;66;03m# GH#43986 Need to do list(mapped) in order to get treated as nested\u001b[39;00m\n\u001b[32m   1508\u001b[39m     \u001b[38;5;66;03m#  See also GH#25959 regarding EA support\u001b[39;00m\n\u001b[32m   1509\u001b[39m     \u001b[38;5;28;01mreturn\u001b[39;00m obj._constructor_expanddim(\u001b[38;5;28mlist\u001b[39m(mapped), index=obj.index)\n",
      "\u001b[36mFile \u001b[39m\u001b[32mf:\\aiml2\\.venv\\Lib\\site-packages\\pandas\\core\\base.py:925\u001b[39m, in \u001b[36mIndexOpsMixin._map_values\u001b[39m\u001b[34m(self, mapper, na_action, convert)\u001b[39m\n\u001b[32m    922\u001b[39m \u001b[38;5;28;01mif\u001b[39;00m \u001b[38;5;28misinstance\u001b[39m(arr, ExtensionArray):\n\u001b[32m    923\u001b[39m     \u001b[38;5;28;01mreturn\u001b[39;00m arr.map(mapper, na_action=na_action)\n\u001b[32m--> \u001b[39m\u001b[32m925\u001b[39m \u001b[38;5;28;01mreturn\u001b[39;00m \u001b[43malgorithms\u001b[49m\u001b[43m.\u001b[49m\u001b[43mmap_array\u001b[49m\u001b[43m(\u001b[49m\u001b[43marr\u001b[49m\u001b[43m,\u001b[49m\u001b[43m \u001b[49m\u001b[43mmapper\u001b[49m\u001b[43m,\u001b[49m\u001b[43m \u001b[49m\u001b[43mna_action\u001b[49m\u001b[43m=\u001b[49m\u001b[43mna_action\u001b[49m\u001b[43m,\u001b[49m\u001b[43m \u001b[49m\u001b[43mconvert\u001b[49m\u001b[43m=\u001b[49m\u001b[43mconvert\u001b[49m\u001b[43m)\u001b[49m\n",
      "\u001b[36mFile \u001b[39m\u001b[32mf:\\aiml2\\.venv\\Lib\\site-packages\\pandas\\core\\algorithms.py:1743\u001b[39m, in \u001b[36mmap_array\u001b[39m\u001b[34m(arr, mapper, na_action, convert)\u001b[39m\n\u001b[32m   1741\u001b[39m values = arr.astype(\u001b[38;5;28mobject\u001b[39m, copy=\u001b[38;5;28;01mFalse\u001b[39;00m)\n\u001b[32m   1742\u001b[39m \u001b[38;5;28;01mif\u001b[39;00m na_action \u001b[38;5;129;01mis\u001b[39;00m \u001b[38;5;28;01mNone\u001b[39;00m:\n\u001b[32m-> \u001b[39m\u001b[32m1743\u001b[39m     \u001b[38;5;28;01mreturn\u001b[39;00m \u001b[43mlib\u001b[49m\u001b[43m.\u001b[49m\u001b[43mmap_infer\u001b[49m\u001b[43m(\u001b[49m\u001b[43mvalues\u001b[49m\u001b[43m,\u001b[49m\u001b[43m \u001b[49m\u001b[43mmapper\u001b[49m\u001b[43m,\u001b[49m\u001b[43m \u001b[49m\u001b[43mconvert\u001b[49m\u001b[43m=\u001b[49m\u001b[43mconvert\u001b[49m\u001b[43m)\u001b[49m\n\u001b[32m   1744\u001b[39m \u001b[38;5;28;01melse\u001b[39;00m:\n\u001b[32m   1745\u001b[39m     \u001b[38;5;28;01mreturn\u001b[39;00m lib.map_infer_mask(\n\u001b[32m   1746\u001b[39m         values, mapper, mask=isna(values).view(np.uint8), convert=convert\n\u001b[32m   1747\u001b[39m     )\n",
      "\u001b[36mFile \u001b[39m\u001b[32mpandas/_libs/lib.pyx:2999\u001b[39m, in \u001b[36mpandas._libs.lib.map_infer\u001b[39m\u001b[34m()\u001b[39m\n",
      "\u001b[36mCell\u001b[39m\u001b[36m \u001b[39m\u001b[32mIn[137]\u001b[39m\u001b[32m, line 1\u001b[39m, in \u001b[36m<lambda>\u001b[39m\u001b[34m(x)\u001b[39m\n\u001b[32m----> \u001b[39m\u001b[32m1\u001b[39m data=data[\u001b[33m'\u001b[39m\u001b[33mtext\u001b[39m\u001b[33m'\u001b[39m].apply(\u001b[38;5;28;01mlambda\u001b[39;00m x:\u001b[43mcleaning\u001b[49m\u001b[43m(\u001b[49m\u001b[43mx\u001b[49m\u001b[43m)\u001b[49m)\n",
      "\u001b[36mCell\u001b[39m\u001b[36m \u001b[39m\u001b[32mIn[122]\u001b[39m\u001b[32m, line 8\u001b[39m, in \u001b[36mcleaning\u001b[39m\u001b[34m(text)\u001b[39m\n\u001b[32m      6\u001b[39m clean=[stemmer.stem(word) \u001b[38;5;28;01mfor\u001b[39;00m word \u001b[38;5;129;01min\u001b[39;00m clean]\n\u001b[32m      7\u001b[39m clean=\u001b[33m'\u001b[39m\u001b[33m \u001b[39m\u001b[33m'\u001b[39m.join(word \u001b[38;5;28;01mfor\u001b[39;00m word \u001b[38;5;129;01min\u001b[39;00m clean)\n\u001b[32m----> \u001b[39m\u001b[32m8\u001b[39m clean=[\u001b[43mone_hot\u001b[49m\u001b[43m(\u001b[49m\u001b[43mword\u001b[49m\u001b[43m,\u001b[49m\u001b[43mvocab_size\u001b[49m\u001b[43m)\u001b[49m \u001b[38;5;28;01mfor\u001b[39;00m word \u001b[38;5;129;01min\u001b[39;00m clean]\n\u001b[32m      9\u001b[39m clean=pad_sequences(clean,padding=\u001b[33m'\u001b[39m\u001b[33mpre\u001b[39m\u001b[33m'\u001b[39m,maxlen=\u001b[32m20\u001b[39m)\n\u001b[32m     10\u001b[39m \u001b[38;5;28;01mreturn\u001b[39;00m clean\n",
      "\u001b[36mFile \u001b[39m\u001b[32mf:\\aiml2\\.venv\\Lib\\site-packages\\keras\\src\\legacy\\preprocessing\\text.py:32\u001b[39m, in \u001b[36mone_hot\u001b[39m\u001b[34m(input_text, n, filters, lower, split, analyzer)\u001b[39m\n\u001b[32m     28\u001b[39m     seq = input_text.split(split)\n\u001b[32m     29\u001b[39m     \u001b[38;5;28;01mreturn\u001b[39;00m [i \u001b[38;5;28;01mfor\u001b[39;00m i \u001b[38;5;129;01min\u001b[39;00m seq \u001b[38;5;28;01mif\u001b[39;00m i]\n\u001b[32m---> \u001b[39m\u001b[32m32\u001b[39m \u001b[38;5;129m@keras_export\u001b[39m(\u001b[33m\"\u001b[39m\u001b[33mkeras._legacy.preprocessing.text.one_hot\u001b[39m\u001b[33m\"\u001b[39m)\n\u001b[32m     33\u001b[39m \u001b[38;5;28;01mdef\u001b[39;00m\u001b[38;5;250m \u001b[39m\u001b[34mone_hot\u001b[39m(\n\u001b[32m     34\u001b[39m     input_text,\n\u001b[32m     35\u001b[39m     n,\n\u001b[32m     36\u001b[39m     filters=\u001b[33m'\u001b[39m\u001b[33m!\u001b[39m\u001b[33m\"\u001b[39m\u001b[33m#$\u001b[39m\u001b[33m%\u001b[39m\u001b[33m&()*+,-./:;<=>?@[\u001b[39m\u001b[38;5;130;01m\\\\\u001b[39;00m\u001b[33m]^_`\u001b[39m\u001b[33m{\u001b[39m\u001b[33m|}~\u001b[39m\u001b[38;5;130;01m\\t\u001b[39;00m\u001b[38;5;130;01m\\n\u001b[39;00m\u001b[33m'\u001b[39m,\n\u001b[32m     37\u001b[39m     lower=\u001b[38;5;28;01mTrue\u001b[39;00m,\n\u001b[32m     38\u001b[39m     split=\u001b[33m\"\u001b[39m\u001b[33m \u001b[39m\u001b[33m\"\u001b[39m,\n\u001b[32m     39\u001b[39m     analyzer=\u001b[38;5;28;01mNone\u001b[39;00m,\n\u001b[32m     40\u001b[39m ):\n\u001b[32m     41\u001b[39m \u001b[38;5;250m    \u001b[39m\u001b[33;03m\"\"\"DEPRECATED.\"\"\"\u001b[39;00m\n\u001b[32m     42\u001b[39m     \u001b[38;5;28;01mreturn\u001b[39;00m hashing_trick(\n\u001b[32m     43\u001b[39m         input_text,\n\u001b[32m     44\u001b[39m         n,\n\u001b[32m   (...)\u001b[39m\u001b[32m     49\u001b[39m         analyzer=analyzer,\n\u001b[32m     50\u001b[39m     )\n",
      "\u001b[31mKeyboardInterrupt\u001b[39m: "
     ]
    }
   ],
   "source": [
    "data=data['text'].apply(lambda x:cleaning(x))"
   ]
  },
  {
   "cell_type": "code",
   "execution_count": null,
   "id": "3847b615",
   "metadata": {},
   "outputs": [],
   "source": [
    "data"
   ]
  }
 ],
 "metadata": {
  "kernelspec": {
   "display_name": ".venv (3.13.3)",
   "language": "python",
   "name": "python3"
  },
  "language_info": {
   "codemirror_mode": {
    "name": "ipython",
    "version": 3
   },
   "file_extension": ".py",
   "mimetype": "text/x-python",
   "name": "python",
   "nbconvert_exporter": "python",
   "pygments_lexer": "ipython3",
   "version": "3.13.3"
  }
 },
 "nbformat": 4,
 "nbformat_minor": 5
}
