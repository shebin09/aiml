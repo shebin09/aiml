{
 "cells": [
  {
   "cell_type": "code",
   "execution_count": 2,
   "id": "fb1cf1c6",
   "metadata": {},
   "outputs": [],
   "source": [
    "from tensorflow.keras.preprocessing.image import ImageDataGenerator,array_to_img,img_to_array,load_img"
   ]
  },
  {
   "cell_type": "code",
   "execution_count": 10,
   "id": "3e64cb61",
   "metadata": {},
   "outputs": [],
   "source": [
    "datagen=ImageDataGenerator(\n",
    "    rotation_range=40,\n",
    "    width_shift_range=0.2,\n",
    "    height_shift_range=0.2,\n",
    "    shear_range=0.2,\n",
    "    zoom_range=0.2,\n",
    "    horizontal_flip=True,\n",
    "    fill_mode='nearest'\n",
    ")"
   ]
  },
  {
   "cell_type": "code",
   "execution_count": 14,
   "id": "90c9a4db",
   "metadata": {},
   "outputs": [
    {
     "data": {
      "text/plain": [
       "array([[[ 36.,  41.,  37.],\n",
       "        [ 37.,  42.,  38.],\n",
       "        [ 38.,  42.,  41.],\n",
       "        ...,\n",
       "        [200., 198., 160.],\n",
       "        [200., 198., 160.],\n",
       "        [203., 201., 162.]],\n",
       "\n",
       "       [[ 38.,  43.,  39.],\n",
       "        [ 39.,  44.,  40.],\n",
       "        [ 39.,  43.,  42.],\n",
       "        ...,\n",
       "        [205., 202., 167.],\n",
       "        [203., 201., 163.],\n",
       "        [204., 202., 163.]],\n",
       "\n",
       "       [[ 41.,  46.,  42.],\n",
       "        [ 41.,  46.,  42.],\n",
       "        [ 41.,  45.,  44.],\n",
       "        ...,\n",
       "        [203., 200., 165.],\n",
       "        [200., 196., 159.],\n",
       "        [198., 194., 157.]],\n",
       "\n",
       "       ...,\n",
       "\n",
       "       [[ 33.,  31.,  32.],\n",
       "        [ 30.,  28.,  29.],\n",
       "        [ 26.,  24.,  25.],\n",
       "        ...,\n",
       "        [ 41.,  28.,  20.],\n",
       "        [ 35.,  25.,  16.],\n",
       "        [ 61.,  51.,  42.]],\n",
       "\n",
       "       [[ 34.,  32.,  33.],\n",
       "        [ 32.,  30.,  31.],\n",
       "        [ 27.,  25.,  26.],\n",
       "        ...,\n",
       "        [ 44.,  31.,  23.],\n",
       "        [ 35.,  25.,  16.],\n",
       "        [ 65.,  55.,  46.]],\n",
       "\n",
       "       [[ 30.,  28.,  29.],\n",
       "        [ 28.,  26.,  27.],\n",
       "        [ 26.,  24.,  25.],\n",
       "        ...,\n",
       "        [ 61.,  48.,  39.],\n",
       "        [ 37.,  27.,  17.],\n",
       "        [ 38.,  28.,  18.]]], shape=(281, 300, 3), dtype=float32)"
      ]
     },
     "execution_count": 14,
     "metadata": {},
     "output_type": "execute_result"
    }
   ],
   "source": [
    "img=load_img('1.jpg')\n",
    "X=img_to_array(img)\n",
    "X"
   ]
  },
  {
   "cell_type": "code",
   "execution_count": 15,
   "id": "d687ae8b",
   "metadata": {},
   "outputs": [
    {
     "data": {
      "text/plain": [
       "array([[[[ 36.,  41.,  37.],\n",
       "         [ 37.,  42.,  38.],\n",
       "         [ 38.,  42.,  41.],\n",
       "         ...,\n",
       "         [200., 198., 160.],\n",
       "         [200., 198., 160.],\n",
       "         [203., 201., 162.]],\n",
       "\n",
       "        [[ 38.,  43.,  39.],\n",
       "         [ 39.,  44.,  40.],\n",
       "         [ 39.,  43.,  42.],\n",
       "         ...,\n",
       "         [205., 202., 167.],\n",
       "         [203., 201., 163.],\n",
       "         [204., 202., 163.]],\n",
       "\n",
       "        [[ 41.,  46.,  42.],\n",
       "         [ 41.,  46.,  42.],\n",
       "         [ 41.,  45.,  44.],\n",
       "         ...,\n",
       "         [203., 200., 165.],\n",
       "         [200., 196., 159.],\n",
       "         [198., 194., 157.]],\n",
       "\n",
       "        ...,\n",
       "\n",
       "        [[ 33.,  31.,  32.],\n",
       "         [ 30.,  28.,  29.],\n",
       "         [ 26.,  24.,  25.],\n",
       "         ...,\n",
       "         [ 41.,  28.,  20.],\n",
       "         [ 35.,  25.,  16.],\n",
       "         [ 61.,  51.,  42.]],\n",
       "\n",
       "        [[ 34.,  32.,  33.],\n",
       "         [ 32.,  30.,  31.],\n",
       "         [ 27.,  25.,  26.],\n",
       "         ...,\n",
       "         [ 44.,  31.,  23.],\n",
       "         [ 35.,  25.,  16.],\n",
       "         [ 65.,  55.,  46.]],\n",
       "\n",
       "        [[ 30.,  28.,  29.],\n",
       "         [ 28.,  26.,  27.],\n",
       "         [ 26.,  24.,  25.],\n",
       "         ...,\n",
       "         [ 61.,  48.,  39.],\n",
       "         [ 37.,  27.,  17.],\n",
       "         [ 38.,  28.,  18.]]]], shape=(1, 281, 300, 3), dtype=float32)"
      ]
     },
     "execution_count": 15,
     "metadata": {},
     "output_type": "execute_result"
    }
   ],
   "source": [
    "X=X.reshape((1,)+X.shape)\n",
    "X"
   ]
  },
  {
   "cell_type": "code",
   "execution_count": 19,
   "id": "0080fb67",
   "metadata": {},
   "outputs": [],
   "source": [
    "import os\n",
    "os.makedirs('preview', exist_ok=True)\n",
    "\n",
    "i=0\n",
    "for batch in datagen.flow(X,batch_size=1,save_to_dir='preview',save_prefix='cat',save_format='jpeg'):\n",
    "    i+=1\n",
    "    if i>20:\n",
    "        break"
   ]
  }
 ],
 "metadata": {
  "kernelspec": {
   "display_name": ".venv (3.13.3)",
   "language": "python",
   "name": "python3"
  },
  "language_info": {
   "codemirror_mode": {
    "name": "ipython",
    "version": 3
   },
   "file_extension": ".py",
   "mimetype": "text/x-python",
   "name": "python",
   "nbconvert_exporter": "python",
   "pygments_lexer": "ipython3",
   "version": "3.13.3"
  }
 },
 "nbformat": 4,
 "nbformat_minor": 5
}
