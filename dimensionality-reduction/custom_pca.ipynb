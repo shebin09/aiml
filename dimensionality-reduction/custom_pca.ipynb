{
 "cells": [
  {
   "cell_type": "code",
   "execution_count": 1,
   "id": "eef476fd",
   "metadata": {},
   "outputs": [],
   "source": [
    "import numpy as np"
   ]
  },
  {
   "cell_type": "code",
   "execution_count": 2,
   "id": "2f352722",
   "metadata": {},
   "outputs": [],
   "source": [
    "class PCA_custom:\n",
    "    def __init__(self,n_components):\n",
    "        self.n_components=n_components\n",
    "        self.mean_=None\n",
    "        self.components_=None\n",
    "        self.explained_variance_=None\n",
    "\n",
    "    def fit(self,X):\n",
    "        self.mean_=np.mean(X,axis=0)\n",
    "        X_centered=X-self.mean_\n",
    "        cov_matrix= np.cov(X_centered,rowvar=False)\n",
    "        eigenvalues,eigenvectors=np.linalg.eigh(cov_matrix)\n",
    "        \n",
    "        sorted_idx=np.argsort(eigenvalues)[::-1]\n",
    "        eigenvalues=eigenvalues[sorted_idx]\n",
    "        eigenvectors=eigenvectors[:,sorted_idx]\n",
    "\n",
    "        self.components_=eigenvectors[:,:self.n_components]\n",
    "        self.explained_variance_=eigenvalues[:self.n_components]\n",
    "    def tranform(self,X):\n",
    "        if self.mean_ is None or self.components_ is None:\n",
    "            raise ValueError(\"call fit before transform\")\n",
    "        X_centered=X- self.mean_\n",
    "        return np.dot(X_centered,self.components_)"
   ]
  }
 ],
 "metadata": {
  "kernelspec": {
   "display_name": ".venv (3.13.3)",
   "language": "python",
   "name": "python3"
  },
  "language_info": {
   "codemirror_mode": {
    "name": "ipython",
    "version": 3
   },
   "file_extension": ".py",
   "mimetype": "text/x-python",
   "name": "python",
   "nbconvert_exporter": "python",
   "pygments_lexer": "ipython3",
   "version": "3.13.3"
  }
 },
 "nbformat": 4,
 "nbformat_minor": 5
}
