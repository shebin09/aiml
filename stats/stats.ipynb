{
 "cells": [
  {
   "cell_type": "markdown",
   "id": "2d21d1be",
   "metadata": {},
   "source": [
    "# Stats"
   ]
  },
  {
   "cell_type": "markdown",
   "id": "351a3894",
   "metadata": {},
   "source": [
    "### Measures of central tendency\n",
    "\n",
    "$x_i={x_1,x_2,...,x_n}$\n",
    "* Mean= $x_i/N$\n",
    "* Median= $  (N+1)/2$ if odd else $(N/2),(N/2) +1 $\n",
    "* Mode - most frequent value"
   ]
  },
  {
   "cell_type": "code",
   "execution_count": 27,
   "id": "5970bb15",
   "metadata": {},
   "outputs": [
    {
     "name": "stdout",
     "output_type": "stream",
     "text": [
      "mean-->2.625\n",
      "median-->(2, 3)\n",
      "mode exists-->[2, 1, 3]\n"
     ]
    }
   ],
   "source": [
    "def mean(arr):\n",
    "    sum=0\n",
    "    for i in arr:\n",
    "        sum+=i\n",
    "    return f\"mean-->{sum/len(arr)}\"\n",
    "\n",
    "def median(arr):\n",
    "    a=sorted(arr)\n",
    "    n=len(a)\n",
    "    if len(a)%2==0:\n",
    "        return f\"median-->{a[(int(n/2))-1],a[(int(n/2) +1)-1]}\"\n",
    "    else:\n",
    "        return f\"median-->{a[(int((n+1)/2))-1]}\"\n",
    "def mode(arr):\n",
    "    res=[]\n",
    "    memo={}\n",
    "\n",
    "    for i in arr:\n",
    "        if i in memo:\n",
    "            res.append(i)\n",
    "        memo[i]=i\n",
    "    \n",
    "    if res:\n",
    "        return f'mode exists-->{res}'\n",
    "    else:\n",
    "        return 'mode doesnt exist'\n",
    "    \n",
    "\n",
    "arr=[1,2,3,4,5,2,1,3]\n",
    "print(mean(arr))\n",
    "print(median(arr))\n",
    "print(mode(arr))\n"
   ]
  },
  {
   "cell_type": "markdown",
   "id": "b587e8a4",
   "metadata": {},
   "source": [
    "### Other metrics\n",
    "\n",
    "* percentile =$(p * (N+1))/100$ p--> how much percentile. if the value is a fraction take the index of values before and after eg- 2.2 take a[2]+0.2(a[3]-a[2])\n",
    "* quartiles(Q1,Q2,Q3)\n",
    "* Interquartile range(IQR=Q3-Q1)\n",
    "* Min \n",
    "* max\n",
    "* lower bound(Q1- 1.5*IQR)\n",
    "* upper bound(Q3+1.5*IQR)\n",
    "* outliers :values lower than LB or higher than UB"
   ]
  },
  {
   "cell_type": "markdown",
   "id": "6089b475",
   "metadata": {},
   "source": [
    "arr=[10,11,12,13,14,15,16,17,18,19,20]\n",
    "\n",
    "50th % --> (50 *(10+1))/100=6=arr[6-1]=15\n",
    "\n",
    "70th% --> ()"
   ]
  },
  {
   "cell_type": "code",
   "execution_count": 45,
   "id": "892a7e2a",
   "metadata": {},
   "outputs": [
    {
     "name": "stdout",
     "output_type": "stream",
     "text": [
      "4.6\n",
      "outliers found -->[-78, 99]\n"
     ]
    }
   ],
   "source": [
    "def percentile(arr,p):\n",
    "    arr.sort()\n",
    "    n=len(arr)\n",
    "    per=(p*(n+1))/100\n",
    "    b=per//1\n",
    "    if type(b)==float:\n",
    "        return arr[int(per//1)-1]+(per-(per//1))*(arr[int(per//1)]-arr[int((per//1))-1])\n",
    "    else:\n",
    "        return arr[per]\n",
    "\n",
    "arr=[-78,1,2,3,4,5,99]\n",
    "p=50\n",
    "percentile(arr,p)\n",
    "print(percentile(arr,70))\n",
    "\n",
    "def outlier(arr):\n",
    "    q1=percentile(arr,25)\n",
    "    q3=percentile(arr,75)\n",
    "    res=[]\n",
    "    iqr=q3-q1\n",
    "    lb= q1-(1.5*iqr)\n",
    "    ub=q3+(1.5*iqr)\n",
    "    for i in arr:\n",
    "        if i<lb or i>ub:\n",
    "            res.append(i)\n",
    "    if res:\n",
    "        return f\"outliers found -->{res}\"\n",
    "    else:\n",
    "        return f'no outliers found'\n",
    "    \n",
    "print(outlier(arr))\n",
    "\n",
    "\n"
   ]
  },
  {
   "cell_type": "markdown",
   "id": "1f0a3554",
   "metadata": {},
   "source": [
    "### Measures of dispersion\n",
    "\n",
    "* range --> (min,max) values\n",
    "* variance --> summation of $ (x_i-mean(x_i))^2/N $ if a random sample is used take N-1 instead of N\n",
    "* standard deviation --> $(variance)^0.5$\n",
    "* z-score(used for standardization) --> $(x_i-mean)/standard deviation $\n",
    "* confidence interval --> eg- 50% CI --> (Q1,Q3) ---50% of the data lies between q1 and q3 "
   ]
  },
  {
   "cell_type": "code",
   "execution_count": 54,
   "id": "ce13bffe",
   "metadata": {},
   "outputs": [
    {
     "name": "stdout",
     "output_type": "stream",
     "text": [
      "variance-->2.0\n",
      " standard deviation -->1.4142135623730951\n",
      "2.0\n",
      "variance-->2.0\n",
      " standard deviation -->1.4142135623730951\n",
      "{1: -1.414213562373095, 2: -0.7071067811865475, 3: 0.0, 4: 0.7071067811865475, 5: 1.414213562373095}\n"
     ]
    }
   ],
   "source": [
    "arr=[1,2,3,4,5]\n",
    "\n",
    "def variance(arr):\n",
    "    n=len(arr)\n",
    "    var=0\n",
    "    sum=0\n",
    "    for i in arr:\n",
    "        sum+=i\n",
    "    mean=sum/n\n",
    "    for i in arr:\n",
    "        var+= ((i-mean)**2)/n\n",
    "    print(f\"variance-->{var}\\n standard deviation -->{(pow(var,0.5))}\")\n",
    "    return var\n",
    "print(variance(arr))\n",
    "def zscore(arr):\n",
    "    a=variance(arr)**0.5\n",
    "    n=len(arr)\n",
    "    res={}\n",
    "    sum=0\n",
    "    for i in arr:\n",
    "        sum+=i\n",
    "    mean=sum/n\n",
    "    for i in arr:\n",
    "        b=(i-mean)/a\n",
    "        res[i]=b\n",
    "    return res\n",
    "print(zscore(arr))\n",
    "\n",
    "\n",
    "    "
   ]
  },
  {
   "cell_type": "markdown",
   "id": "b684bf56",
   "metadata": {},
   "source": [
    "### correlation coefficient\n",
    "\n",
    "* pearson correlation coefficient --> positive and negative correlation(direct and inverse proportion)--higher the correlation better\n",
    "\n",
    "$r = \\frac{\\sum (x_i - \\bar{x})(y_i - \\bar{y})}{\\sqrt{\\sum (x_i - \\bar{x})^2 \\sum (y_i - \\bar{y})^2}}$"
   ]
  },
  {
   "cell_type": "markdown",
   "id": "ba756636",
   "metadata": {},
   "source": [
    "### scatter plot(Bivariate analysis)\n",
    "* visually inspecting correlation between two variables\n"
   ]
  },
  {
   "cell_type": "markdown",
   "id": "93e1db7d",
   "metadata": {},
   "source": [
    "### Box plot\n",
    "* shows median(Q2),Q1,Q3.LB,UB,outliers"
   ]
  },
  {
   "cell_type": "markdown",
   "id": "b9d5556a",
   "metadata": {},
   "source": [
    "### Histogram\n",
    "*frequency/relative frequency\n"
   ]
  },
  {
   "cell_type": "markdown",
   "id": "d56bcc3b",
   "metadata": {},
   "source": [
    "### Probability density function"
   ]
  },
  {
   "cell_type": "markdown",
   "id": "bbd3afc4",
   "metadata": {},
   "source": [
    "### covariance\n",
    "$\\text{Cov}(X, Y) = \\frac{1}{n} \\sum_{i=1}^{n} (x_i - \\bar{x})(y_i - \\bar{y})$ \n",
    "* 1/n-1 if sample covariance"
   ]
  },
  {
   "cell_type": "markdown",
   "id": "2fce7664",
   "metadata": {},
   "source": [
    "### Cumulative density function\n",
    "* advantage compared to PDF"
   ]
  }
 ],
 "metadata": {
  "kernelspec": {
   "display_name": ".venv",
   "language": "python",
   "name": "python3"
  },
  "language_info": {
   "codemirror_mode": {
    "name": "ipython",
    "version": 3
   },
   "file_extension": ".py",
   "mimetype": "text/x-python",
   "name": "python",
   "nbconvert_exporter": "python",
   "pygments_lexer": "ipython3",
   "version": "3.13.3"
  }
 },
 "nbformat": 4,
 "nbformat_minor": 5
}
