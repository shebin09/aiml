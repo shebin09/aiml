{
  "nbformat": 4,
  "nbformat_minor": 0,
  "metadata": {
    "colab": {
      "provenance": []
    },
    "kernelspec": {
      "name": "python3",
      "display_name": "Python 3"
    },
    "language_info": {
      "name": "python"
    }
  },
  "cells": [
    {
      "cell_type": "code",
      "execution_count": 2,
      "metadata": {
        "id": "Ev2ed2QR8fxh"
      },
      "outputs": [],
      "source": [
        "import nltk"
      ]
    },
    {
      "cell_type": "code",
      "source": [
        "para=\"Paragraphs are the building blocks of papers. Many students define paragraphs in terms of length: a paragraph is a group of at least five sentences, a paragraph is half a page long, etc. In reality, though, the unity and coherence of ideas among sentences is what constitutes a paragraph. A paragraph is defined as “a group of sentences or a single sentence that forms a unit” (Lunsford and Connors 116). Length and appearance do not determine whether a section in a paper is a paragraph. For instance, in some styles of writing, particularly journalistic styles, a paragraph can be just one sentence long. Ultimately, a paragraph is a sentence or group of sentences that support one main idea. In this handout, we will refer to this as the “controlling idea,” because it controls what happens in the rest of the paragraph.\""
      ],
      "metadata": {
        "id": "teS8zxeT8hE7"
      },
      "execution_count": 3,
      "outputs": []
    },
    {
      "cell_type": "code",
      "source": [
        "import re\n",
        "from nltk.corpus import stopwords\n",
        "from nltk.stem import PorterStemmer,WordNetLemmatizer\n",
        "nltk.download('punkt_tab')\n",
        "nltk.download('stopwords')\n",
        "\n"
      ],
      "metadata": {
        "colab": {
          "base_uri": "https://localhost:8080/"
        },
        "id": "2Lo7Hnpw8llX",
        "outputId": "4d94a4b6-e3a1-43c1-bb09-7c070fe38767"
      },
      "execution_count": 7,
      "outputs": [
        {
          "output_type": "stream",
          "name": "stderr",
          "text": [
            "[nltk_data] Downloading package punkt_tab to /root/nltk_data...\n",
            "[nltk_data]   Package punkt_tab is already up-to-date!\n",
            "[nltk_data] Downloading package stopwords to /root/nltk_data...\n",
            "[nltk_data]   Unzipping corpora/stopwords.zip.\n"
          ]
        },
        {
          "output_type": "execute_result",
          "data": {
            "text/plain": [
              "True"
            ]
          },
          "metadata": {},
          "execution_count": 7
        }
      ]
    },
    {
      "cell_type": "code",
      "source": [
        "ps=PorterStemmer()\n",
        "lemma=WordNetLemmatizer()\n",
        "sentences=nltk.sent_tokenize(para)\n",
        "corpus=[]"
      ],
      "metadata": {
        "id": "CCCnVFlh8nsE"
      },
      "execution_count": 5,
      "outputs": []
    },
    {
      "cell_type": "code",
      "source": [
        "\n",
        "review=re.sub(r'\\[[0-9]*\\]',' ',para)\n",
        "review=re.sub(r'\\st',' ',review)\n",
        "review=review.lower()\n",
        "review=re.sub(r'\\d',' ',review)\n",
        "review=re.sub(r'\\st',' ',review)\n",
        "\n",
        "\n"
      ],
      "metadata": {
        "id": "D1tUrV6H8wHU"
      },
      "execution_count": 9,
      "outputs": []
    },
    {
      "cell_type": "code",
      "source": [
        "review"
      ],
      "metadata": {
        "colab": {
          "base_uri": "https://localhost:8080/",
          "height": 122
        },
        "id": "Qgwdz7Q9_gv5",
        "outputId": "e8d9c479-3e57-4377-8094-409101c45ab0"
      },
      "execution_count": 11,
      "outputs": [
        {
          "output_type": "execute_result",
          "data": {
            "text/plain": [
              "'paragraphs are he building blocks of papers. many students define paragraphs in erms of length: a paragraph is a group of at least five sentences, a paragraph is half a page long, etc. in reality, hough, he unity and coherence of ideas among sentences is what constitutes a paragraph. a paragraph is defined as “a group of sentences or a single sentence hat forms a unit” (lunsford and connors    ). length and appearance do not determine whether a section in a paper is a paragraph. for instance, in some styles of writing, particularly journalistic styles, a paragraph can be just one sentence long. ultimately, a paragraph is a sentence or group of sentences hat support one main idea. in his handout, we will refer o his as he “controlling idea,” because it controls what happens in he rest of he paragraph.'"
            ],
            "application/vnd.google.colaboratory.intrinsic+json": {
              "type": "string"
            }
          },
          "metadata": {},
          "execution_count": 11
        }
      ]
    },
    {
      "cell_type": "code",
      "source": [
        "sentences=nltk.sent_tokenize(review)\n",
        "sentences=[nltk.word_tokenize(sentence) for sentence in sentences]\n",
        "for i in range(len(sentences)):\n",
        "  sentences[i]=[word for word in sentences[i] if word not in set(stopwords.words('english'))]\n"
      ],
      "metadata": {
        "id": "1qVqtfKL_bJZ"
      },
      "execution_count": 13,
      "outputs": []
    },
    {
      "cell_type": "code",
      "source": [
        "review=review.split()\n",
        "review=[lemma.lemmatize(word) for word in review if word not in set(stopwords.words('english'))]\n",
        "review= \" \".join(review)\n",
        "corpus.append(review)"
      ],
      "metadata": {
        "id": "qsU0D4Iu_On3"
      },
      "execution_count": null,
      "outputs": []
    },
    {
      "cell_type": "code",
      "source": [
        "!pip install gensim"
      ],
      "metadata": {
        "id": "EBxuMpMx9JFO"
      },
      "execution_count": null,
      "outputs": []
    },
    {
      "cell_type": "code",
      "source": [
        "from gensim.models import Word2Vec\n"
      ],
      "metadata": {
        "id": "SPD7CrPt8zdK"
      },
      "execution_count": 15,
      "outputs": []
    },
    {
      "cell_type": "code",
      "source": [
        "model=Word2Vec(sentences,min_count=1)"
      ],
      "metadata": {
        "id": "0Rb1YWBoATXR"
      },
      "execution_count": 16,
      "outputs": []
    },
    {
      "cell_type": "code",
      "source": [
        "words=model.wv.index_to_key\n",
        "words"
      ],
      "metadata": {
        "colab": {
          "base_uri": "https://localhost:8080/"
        },
        "id": "MsgtV2h5ApDZ",
        "outputId": "2f91f70e-67da-40cd-9dfb-65cac6e5c3bb"
      },
      "execution_count": 19,
      "outputs": [
        {
          "output_type": "execute_result",
          "data": {
            "text/plain": [
              "[',',\n",
              " '.',\n",
              " 'paragraph',\n",
              " 'sentences',\n",
              " 'group',\n",
              " 'sentence',\n",
              " 'length',\n",
              " 'long',\n",
              " 'styles',\n",
              " '”',\n",
              " 'paragraphs',\n",
              " 'hat',\n",
              " 'idea',\n",
              " '“',\n",
              " 'one',\n",
              " 'reality',\n",
              " 'page',\n",
              " 'hough',\n",
              " 'unity',\n",
              " 'etc',\n",
              " 'coherence',\n",
              " 'least',\n",
              " 'half',\n",
              " 'five',\n",
              " 'among',\n",
              " ':',\n",
              " 'erms',\n",
              " 'define',\n",
              " 'students',\n",
              " 'many',\n",
              " 'papers',\n",
              " 'blocks',\n",
              " 'building',\n",
              " 'ideas',\n",
              " 'rest',\n",
              " 'constitutes',\n",
              " 'defined',\n",
              " 'controls',\n",
              " 'controlling',\n",
              " 'refer',\n",
              " 'handout',\n",
              " 'main',\n",
              " 'support',\n",
              " 'ultimately',\n",
              " 'journalistic',\n",
              " 'particularly',\n",
              " 'writing',\n",
              " 'instance',\n",
              " 'paper',\n",
              " 'section',\n",
              " 'whether',\n",
              " 'determine',\n",
              " 'appearance',\n",
              " ')',\n",
              " 'connors',\n",
              " 'lunsford',\n",
              " '(',\n",
              " 'unit',\n",
              " 'forms',\n",
              " 'happens',\n",
              " 'single']"
            ]
          },
          "metadata": {},
          "execution_count": 19
        }
      ]
    },
    {
      "cell_type": "code",
      "source": [
        "vectors=model.wv['section']\n",
        "vectors"
      ],
      "metadata": {
        "colab": {
          "base_uri": "https://localhost:8080/"
        },
        "id": "33iJd-DABg_7",
        "outputId": "ed019003-0f0c-4ba3-c67c-bccfdf1ff77b"
      },
      "execution_count": 28,
      "outputs": [
        {
          "output_type": "execute_result",
          "data": {
            "text/plain": [
              "array([-1.1730978e-03, -2.3564638e-03, -1.8086677e-03, -1.1733436e-03,\n",
              "       -6.5149637e-03, -3.5636690e-03, -3.2018025e-03,  7.7408347e-03,\n",
              "        5.8524958e-03, -9.1358769e-04, -4.8259492e-03,  5.2878386e-03,\n",
              "       -8.8427654e-03,  1.6696299e-03,  4.0238737e-03, -1.9407960e-03,\n",
              "       -4.5211050e-03, -8.2212305e-03, -8.2989894e-03,  7.1092355e-03,\n",
              "        3.6551484e-03, -3.9212420e-04,  9.7218547e-03, -8.5422685e-03,\n",
              "        5.9123093e-04, -4.3408072e-04, -8.0925506e-03, -9.0887146e-03,\n",
              "        7.1849567e-03, -3.6326342e-03, -7.8862356e-03,  7.9496223e-03,\n",
              "       -6.2561142e-03, -3.1543605e-03,  1.7876192e-03, -3.3544304e-03,\n",
              "       -7.9509523e-03, -3.9146803e-03, -9.0197409e-03,  1.4045843e-03,\n",
              "       -4.6353950e-03, -2.7118558e-05,  2.7112598e-03, -2.3781091e-03,\n",
              "        8.8217705e-03,  7.0362049e-03, -5.5244961e-04, -6.3805375e-04,\n",
              "        8.5339556e-04,  6.7555704e-03,  8.9649474e-03, -1.9306397e-03,\n",
              "       -1.6097003e-03, -2.9753721e-03,  5.1573047e-04, -6.4734370e-03,\n",
              "       -1.8587725e-03, -8.6455112e-03,  6.5067731e-04,  1.4393110e-03,\n",
              "        3.7211780e-03, -2.8732207e-03,  5.9342654e-03, -7.0677963e-03,\n",
              "        9.8205898e-03,  5.4224092e-04,  2.3037533e-03,  4.3594078e-03,\n",
              "        4.1375888e-04,  2.6204786e-03,  1.6038793e-03, -9.6164588e-03,\n",
              "       -3.1457881e-03, -2.5956538e-03, -9.2627211e-03,  3.4319898e-03,\n",
              "        4.7909706e-03, -2.0704253e-03,  7.4244775e-03, -1.2140227e-03,\n",
              "       -2.9947385e-04,  5.7858615e-03, -8.4709497e-03, -6.9003701e-03,\n",
              "        7.3383264e-03, -6.5795267e-03,  8.4770070e-03,  5.3485497e-03,\n",
              "       -8.0434075e-03,  8.3990274e-03,  6.3411854e-03, -6.7253234e-03,\n",
              "       -8.4582549e-03, -8.8421702e-03,  3.8344667e-03,  6.3364804e-03,\n",
              "       -2.1389455e-03,  1.3357106e-03, -8.4143728e-03, -5.1112282e-03],\n",
              "      dtype=float32)"
            ]
          },
          "metadata": {},
          "execution_count": 28
        }
      ]
    },
    {
      "cell_type": "code",
      "source": [
        "similar=model.wv.most_similar('writing')\n",
        "similar"
      ],
      "metadata": {
        "colab": {
          "base_uri": "https://localhost:8080/"
        },
        "id": "x5nDcOz7B_LT",
        "outputId": "618fb1a0-ae7c-4c07-c526-5cc6ae490848"
      },
      "execution_count": 26,
      "outputs": [
        {
          "output_type": "execute_result",
          "data": {
            "text/plain": [
              "[('define', 0.27063706517219543),\n",
              " ('forms', 0.1985018104314804),\n",
              " ('instance', 0.17191237211227417),\n",
              " ('refer', 0.1453598290681839),\n",
              " ('”', 0.13521535694599152),\n",
              " ('hough', 0.13115724921226501),\n",
              " ('paper', 0.12404728680849075),\n",
              " ('particularly', 0.09939305484294891),\n",
              " ('constitutes', 0.09911642223596573),\n",
              " ('main', 0.08341878652572632)]"
            ]
          },
          "metadata": {},
          "execution_count": 26
        }
      ]
    }
  ]
}