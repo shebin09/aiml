{
 "cells": [
  {
   "cell_type": "markdown",
   "id": "58e1fe81",
   "metadata": {},
   "source": [
    "# Loss Functions in Deep Learning\n",
    "\n",
    "## 1. Binary Cross-Entropy (BCE)\n",
    "**Use case:** Binary classification  \n",
    "**Activation:** Sigmoid  \n",
    "Formula:\n",
    "\n",
    "$\\text{BCE} = - \\frac{1}{N} \\sum_{i=1}^{N} \\left[ y_i \\log(\\hat{y}_i) + (1 - y_i) \\log(1 - \\hat{y}_i) \\right]$\n",
    "\n",
    "\n",
    "---\n",
    "\n",
    "## 2. Categorical Cross-Entropy (CCE)\n",
    "**Use case:** Multi-class classification (> 2 classes)  \n",
    "**Activation:** Softmax  \n",
    "Formula:\n",
    "\\[\n",
    "$\\text{CCE} = - \\frac{1}{N} \\sum_{i=1}^N \\sum_{c=1}^C y_{i,c} \\log(\\hat{y}_{i,c})$\n",
    "\\]\n",
    "- \\(y_{i,c} \\in \\{0,1\\}\\) is one-hot encoded.\n",
    "\n",
    "---\n",
    "\n",
    "## 3. Sparse Categorical Cross-Entropy (Sparse CCE)\n",
    "**Use case:** Multi-class classification with integer labels (no one-hot)  \n",
    "Formula:\n",
    "\\[\n",
    "$\\text{SparseCCE} = -\\frac{1}{N} \\sum_{i=1}^N \\log(\\hat{y}_{i, y_i})$\n",
    "\\]\n",
    "- \\(y_i\\) = integer class index  \n",
    "- \\(\\hat{y}_{i, y_i}\\) = predicted probability for the correct class.\n",
    "\n",
    "---\n",
    "\n",
    "## 4. Dice Loss\n",
    "**Use case:** Segmentation (handles class imbalance well)  \n",
    "**Dice coefficient:**\n",
    "\\[\n",
    "$\\text{Dice} = \\frac{2 \\sum_i p_i g_i + \\epsilon}{\\sum_i p_i + \\sum_i g_i + \\epsilon}$\n",
    "\\]\n",
    "**Dice loss:**\n",
    "\\[\n",
    "$\\text{Dice Loss} = 1 - \\text{Dice}$\n",
    "\\]\n",
    "- \\(p_i\\) = predicted probability for pixel \\(i\\)  \n",
    "- \\(g_i\\) = ground truth label (0 or 1)\n",
    "\n",
    "---\n",
    "\n",
    "## 5. IoU Loss (Jaccard Loss)\n",
    "**Use case:** Segmentation, bounding box regression  \n",
    "**IoU:**\n",
    "\n",
    "$\\text{IoU} = \\frac{\\sum_i p_i g_i + \\epsilon}{\\sum_i p_i + \\sum_i g_i - \\sum_i p_i g_i + \\epsilon}$\n",
    "\n",
    "**IoU loss:**\n",
    "\n",
    "$\\text{IoU Loss} = 1 - \\text{IoU}$\n",
    "\n",
    "\n",
    "---\n",
    "\n",
    "## 6. Dice vs IoU Relationship\n",
    "\n",
    "$\\text{Dice} = \\frac{2 \\cdot \\text{IoU}}{\\text{IoU} + 1}$\n",
    "\n"
   ]
  },
  {
   "cell_type": "code",
   "execution_count": 1,
   "id": "7037dfbd",
   "metadata": {},
   "outputs": [],
   "source": [
    "from sklearn.metrics import mean_squared_error,mean_absolute_error,root_mean_squared_error"
   ]
  },
  {
   "cell_type": "code",
   "execution_count": 3,
   "id": "99cbb1e0",
   "metadata": {},
   "outputs": [],
   "source": [
    "import numpy as np\n",
    "import random"
   ]
  },
  {
   "cell_type": "code",
   "execution_count": 11,
   "id": "da2476ab",
   "metadata": {},
   "outputs": [],
   "source": [
    "y=[random.randint(0,99) for i in range(100)]\n",
    "y_hat=[random.randint(0,99) for i in range(100)]\n",
    "y=np.array(y)\n",
    "y_hat=np.array(y_hat)"
   ]
  },
  {
   "cell_type": "code",
   "execution_count": 13,
   "id": "6c1f1b44",
   "metadata": {},
   "outputs": [
    {
     "data": {
      "text/plain": [
       "np.float64(1618.03)"
      ]
     },
     "execution_count": 13,
     "metadata": {},
     "output_type": "execute_result"
    }
   ],
   "source": [
    "mse_custom= np.mean((y-y_hat)**2)\n",
    "mse_custom"
   ]
  },
  {
   "cell_type": "code",
   "execution_count": 15,
   "id": "75eb2795",
   "metadata": {},
   "outputs": [
    {
     "data": {
      "text/plain": [
       "1618.03"
      ]
     },
     "execution_count": 15,
     "metadata": {},
     "output_type": "execute_result"
    }
   ],
   "source": [
    "mse_lib=mean_squared_error(y,y_hat)\n",
    "mse_lib"
   ]
  },
  {
   "cell_type": "code",
   "execution_count": null,
   "id": "c34fcebe",
   "metadata": {},
   "outputs": [
    {
     "data": {
      "text/plain": [
       "np.float64(40.22474362876661)"
      ]
     },
     "execution_count": 17,
     "metadata": {},
     "output_type": "execute_result"
    }
   ],
   "source": [
    "rmse_custom=np.sqrt(np.mean((y-y_hat)**2))\n",
    "rmse_custom\n"
   ]
  },
  {
   "cell_type": "code",
   "execution_count": 19,
   "id": "3f3f94c3",
   "metadata": {},
   "outputs": [
    {
     "data": {
      "text/plain": [
       "40.22474362876661"
      ]
     },
     "execution_count": 19,
     "metadata": {},
     "output_type": "execute_result"
    }
   ],
   "source": [
    "rmse_lib=root_mean_squared_error(y,y_hat)\n",
    "rmse_lib"
   ]
  },
  {
   "cell_type": "code",
   "execution_count": 21,
   "id": "a797bc53",
   "metadata": {},
   "outputs": [
    {
     "data": {
      "text/plain": [
       "np.float64(32.51)"
      ]
     },
     "execution_count": 21,
     "metadata": {},
     "output_type": "execute_result"
    }
   ],
   "source": [
    "mae_cust=np.mean(np.abs(y-y_hat))\n",
    "mae_cust"
   ]
  },
  {
   "cell_type": "code",
   "execution_count": 23,
   "id": "a3390a07",
   "metadata": {},
   "outputs": [
    {
     "data": {
      "text/plain": [
       "32.51"
      ]
     },
     "execution_count": 23,
     "metadata": {},
     "output_type": "execute_result"
    }
   ],
   "source": [
    "mae_lib=mean_absolute_error(y,y_hat)\n",
    "mae_lib"
   ]
  },
  {
   "cell_type": "code",
   "execution_count": 27,
   "id": "99f74c2b",
   "metadata": {},
   "outputs": [
    {
     "data": {
      "text/plain": [
       "array([0, 0, 0, 0, 1, 1, 1, 0, 0, 0, 0, 1, 0, 0, 0, 1, 1, 1, 1, 0, 1, 0,\n",
       "       1, 1, 1, 0, 1, 1, 1, 0, 0, 1, 1, 0, 1, 0, 0, 1, 0, 1, 0, 0, 0, 0,\n",
       "       0, 0, 1, 0, 0, 0, 1, 0, 0, 1, 1, 0, 1, 1, 0, 1, 0, 1, 1, 1, 0, 0,\n",
       "       1, 1, 1, 0, 1, 0, 1, 0, 0, 0, 0, 1, 1, 1, 0, 1, 0, 0, 1, 0, 0, 1,\n",
       "       0, 0, 1, 0, 0, 1, 0, 1, 1, 1, 0, 1], dtype=int32)"
      ]
     },
     "execution_count": 27,
     "metadata": {},
     "output_type": "execute_result"
    }
   ],
   "source": [
    "y_class=np.random.randint(0,2,100)\n",
    "y_hat_class=np.random.randint(0,2,100)\n",
    "y_hat_class"
   ]
  },
  {
   "cell_type": "code",
   "execution_count": 32,
   "id": "bea033d0",
   "metadata": {},
   "outputs": [
    {
     "data": {
      "text/plain": [
       "np.float64(17.269388197455342)"
      ]
     },
     "execution_count": 32,
     "metadata": {},
     "output_type": "execute_result"
    }
   ],
   "source": [
    "bin_cust=-np.mean((y_class*np.log(y_hat_class+1e-15))+(1-y_class)*(np.log(1-y_hat_class+1e-15)))\n",
    "bin_cust"
   ]
  },
  {
   "cell_type": "code",
   "execution_count": 38,
   "id": "f6b74d29",
   "metadata": {},
   "outputs": [
    {
     "data": {
      "text/plain": [
       "18.02182669455858"
      ]
     },
     "execution_count": 38,
     "metadata": {},
     "output_type": "execute_result"
    }
   ],
   "source": [
    "from sklearn.metrics import log_loss\n",
    "\n",
    "bin_lib=log_loss(y_hat_class,y_class)\n",
    "bin_lib"
   ]
  }
 ],
 "metadata": {
  "kernelspec": {
   "display_name": ".venv (3.13.3)",
   "language": "python",
   "name": "python3"
  },
  "language_info": {
   "codemirror_mode": {
    "name": "ipython",
    "version": 3
   },
   "file_extension": ".py",
   "mimetype": "text/x-python",
   "name": "python",
   "nbconvert_exporter": "python",
   "pygments_lexer": "ipython3",
   "version": "3.13.3"
  }
 },
 "nbformat": 4,
 "nbformat_minor": 5
}
