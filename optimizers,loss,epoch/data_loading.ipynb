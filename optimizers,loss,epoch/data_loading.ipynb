{
 "cells": [
  {
   "cell_type": "markdown",
   "id": "2e416833",
   "metadata": {},
   "source": [
    "# Data Loading in Keras\n",
    "\n",
    "Data loading in Keras depends on the **type of dataset** and **size**.\n",
    "\n",
    "---\n",
    "\n",
    "## 1. Built-in Datasets\n",
    "Keras provides small, popular datasets that can be loaded directly.\n",
    "\n",
    "**Examples:**\n",
    "- MNIST (handwritten digits)\n",
    "- CIFAR-10 / CIFAR-100 (small images)\n",
    "- IMDB (movie reviews)\n",
    "\n",
    "**Usage:**\n",
    "```python\n",
    "from tensorflow.keras.datasets import mnist\n",
    "(X_train, y_train), (X_test, y_test) = mnist.load_data()\n"
   ]
  },
  {
   "cell_type": "code",
   "execution_count": null,
   "id": "a544209f",
   "metadata": {},
   "outputs": [],
   "source": []
  }
 ],
 "metadata": {
  "kernelspec": {
   "display_name": ".venv (3.13.3)",
   "language": "python",
   "name": "python3"
  },
  "language_info": {
   "codemirror_mode": {
    "name": "ipython",
    "version": 3
   },
   "file_extension": ".py",
   "mimetype": "text/x-python",
   "name": "python",
   "nbconvert_exporter": "python",
   "pygments_lexer": "ipython3",
   "version": "3.13.3"
  }
 },
 "nbformat": 4,
 "nbformat_minor": 5
}
